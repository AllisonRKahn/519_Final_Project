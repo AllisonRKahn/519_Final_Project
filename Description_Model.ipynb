{
  "cells": [
    {
      "cell_type": "markdown",
      "metadata": {
        "id": "8HgIWEH83_CD"
      },
      "source": [
        "# **Book Description Models**"
      ]
    },
    {
      "cell_type": "markdown",
      "metadata": {
        "id": "OEGjN2uq3676"
      },
      "source": [
        "# Loading in and Understanding the Data"
      ]
    },
    {
      "cell_type": "code",
      "execution_count": null,
      "metadata": {
        "colab": {
          "base_uri": "https://localhost:8080/"
        },
        "id": "9q0G-BJb4OvT",
        "outputId": "ce14f504-d097-44dd-9937-305628f315be"
      },
      "outputs": [
        {
          "output_type": "stream",
          "name": "stdout",
          "text": [
            "[nltk_data] Downloading package stopwords to /root/nltk_data...\n",
            "[nltk_data]   Unzipping corpora/stopwords.zip.\n",
            "[nltk_data] Downloading package wordnet to /root/nltk_data...\n",
            "[nltk_data]   Unzipping corpora/wordnet.zip.\n"
          ]
        }
      ],
      "source": [
        "#----------------- IMPORT STATEMENTS -----------------#\n",
        "\n",
        "import numpy as np\n",
        "import pandas as pd\n",
        "import seaborn as sns\n",
        "import matplotlib.pyplot as plt\n",
        "from google.colab import drive\n",
        "import gzip\n",
        "import pickle\n",
        "import nltk\n",
        "import re\n",
        "import tensorflow as tf\n",
        "\n",
        "from collections import Counter\n",
        "\n",
        "from sklearn.preprocessing import LabelEncoder\n",
        "from sklearn.feature_extraction.text import CountVectorizer\n",
        "from sklearn.naive_bayes import MultinomialNB\n",
        "from sklearn.metrics import f1_score\n",
        "from sklearn.model_selection import train_test_split\n",
        "from sklearn.metrics import multilabel_confusion_matrix\n",
        "\n",
        "from nltk.corpus import stopwords\n",
        "from nltk.stem import WordNetLemmatizer\n",
        "from nltk.stem import SnowballStemmer\n",
        "from nltk import word_tokenize\n",
        "nltk.download('stopwords')\n",
        "nltk.download('wordnet')\n",
        "\n",
        "\n",
        "from keras.preprocessing.text import Tokenizer\n",
        "from keras.preprocessing.sequence import pad_sequences\n",
        "from keras.models import Sequential\n",
        "from keras.layers import Dense, Embedding, LSTM, SpatialDropout1D\n",
        "from sklearn.model_selection import train_test_split\n",
        "from keras.utils.np_utils import to_categorical\n",
        "from keras.callbacks import EarlyStopping as ES\n",
        "from keras.callbacks import ModelCheckpoint as MC\n",
        "from keras.callbacks import TensorBoard as TB\n",
        "from keras.layers import Dropout\n"
      ]
    },
    {
      "cell_type": "code",
      "execution_count": null,
      "metadata": {
        "colab": {
          "base_uri": "https://localhost:8080/"
        },
        "id": "rAT1CpV3HIw3",
        "outputId": "fafe6ed8-260d-4472-afa5-3b08ff3e73cb"
      },
      "outputs": [
        {
          "output_type": "stream",
          "name": "stdout",
          "text": [
            "Mounted at /content/gdrive\n"
          ]
        }
      ],
      "source": [
        "\n",
        "#----------------- SET UP DRIVE AND GET DATA -----------------#\n",
        "\n",
        "# Load from Google Drive\n",
        "drive.mount('/content/gdrive')\n",
        "\n",
        "# Load the full data \n",
        "all_data = pd.read_csv('gdrive/MyDrive/books_clean.csv.gz', compression='gzip')\n"
      ]
    },
    {
      "cell_type": "code",
      "execution_count": null,
      "metadata": {
        "id": "RaJfw3aP3-0V"
      },
      "outputs": [],
      "source": [
        "#----------------- SET UP DRIVE AND GET DATA -----------------#\n",
        "\n",
        "# takes the original data and filters for description and encodes the genres\n",
        "def reset_description_data(all_data):\n",
        "  # Filter for records with descriptions\n",
        "  desc_df = all_data[all_data['description'] == all_data['description']]\n",
        "\n",
        "  # Create a label encoder\n",
        "  le = LabelEncoder()\n",
        "\n",
        "  # Label encode the genres and get the encoding list\n",
        "\n",
        "  desc_df.loc[:,'genre_1'] = le.fit_transform(desc_df['first'])\n",
        "  map1 = list(le.classes_)\n",
        "  desc_df.loc[:,'genre_2'] = le.fit_transform(desc_df['genre_cleaned'])\n",
        "  map2 = list(le.classes_)\n",
        "  desc_df.loc[:,'genre_3'] = le.fit_transform(desc_df['genre_cleaned2'])\n",
        "  map3 = list(le.classes_)\n",
        "  desc_df.loc[:,'genre_4'] = le.fit_transform(desc_df['genre_cleaned3'])\n",
        "  map4 = list(le.classes_)\n",
        "\n",
        "  return desc_df, map1, map2, map3, map4"
      ]
    },
    {
      "cell_type": "markdown",
      "metadata": {
        "id": "mKc9Jyh5CSgY"
      },
      "source": [
        "We note that our dataset has 1,457,175 values and out of that, 1,233,578 have book descriptions.  Our dataset can be visualized as found below.  "
      ]
    },
    {
      "cell_type": "code",
      "execution_count": null,
      "metadata": {
        "colab": {
          "base_uri": "https://localhost:8080/"
        },
        "id": "uRR1M3vM054E",
        "outputId": "71572560-0726-4f66-f001-3f3bd0aab316"
      },
      "outputs": [
        {
          "output_type": "stream",
          "name": "stderr",
          "text": [
            "/usr/local/lib/python3.7/dist-packages/pandas/core/indexing.py:1667: SettingWithCopyWarning: \n",
            "A value is trying to be set on a copy of a slice from a DataFrame.\n",
            "Try using .loc[row_indexer,col_indexer] = value instead\n",
            "\n",
            "See the caveats in the documentation: https://pandas.pydata.org/pandas-docs/stable/user_guide/indexing.html#returning-a-view-versus-a-copy\n",
            "  self.obj[key] = value\n"
          ]
        },
        {
          "output_type": "stream",
          "name": "stdout",
          "text": [
            "TOTAL RECORDS:  1457175\n",
            "TOTAL WITH DESCRIPTIONS:  1233578\n"
          ]
        }
      ],
      "source": [
        "desc_data, genre_dict_1, genre_dict_2, genre_dict_3, genre_dict_4 = reset_description_data(all_data)\n",
        "\n",
        "print(\"TOTAL RECORDS: \", len(all_data))\n",
        "print(\"TOTAL WITH DESCRIPTIONS: \", len(desc_data))"
      ]
    },
    {
      "cell_type": "code",
      "execution_count": null,
      "metadata": {
        "colab": {
          "base_uri": "https://localhost:8080/",
          "height": 344
        },
        "id": "Yotbv9zj93ft",
        "outputId": "43d6a3d6-700c-46a7-90de-c86721bcec8e"
      },
      "outputs": [
        {
          "output_type": "execute_result",
          "data": {
            "text/plain": [
              "   Unnamed: 0        isbn  average_rating  \\\n",
              "1           1  0743509986            3.23   \n",
              "2           2         NaN            4.03   \n",
              "\n",
              "                                         description  \\\n",
              "1  Anita Diamant's international bestseller \"The ...   \n",
              "2  Omnibus book club edition containing the Ladie...   \n",
              "\n",
              "                                                link   authors  \\\n",
              "1  https://www.goodreads.com/book/show/1333909.Go...  626222.0   \n",
              "2  https://www.goodreads.com/book/show/7327624-th...   10333.0   \n",
              "\n",
              "                publisher  num_pages         isbn13  publication_year  ...  \\\n",
              "1  Simon & Schuster Audio        NaN  9780743509985            2001.0  ...   \n",
              "2  Nelson Doubleday, Inc.      600.0            NaN            1987.0  ...   \n",
              "\n",
              "                 first                                  second  \\\n",
              "1              fiction  history, historical fiction, biography   \n",
              "2  fantasy, paranormal                                 fiction   \n",
              "\n",
              "                      third                           genre_cleaned  \\\n",
              "1                       NaN  history, historical fiction, biography   \n",
              "2  mystery, thriller, crime                     fantasy, paranormal   \n",
              "\n",
              "                                    genre_cleaned2  \\\n",
              "1  fiction: history, historical fiction, biography   \n",
              "2                              fantasy, paranormal   \n",
              "\n",
              "                                    genre_cleaned3 genre_1 genre_2 genre_3  \\\n",
              "1  fiction: history, historical fiction, biography       3       4       7   \n",
              "2                     fiction: fantasy, paranormal       2       2       2   \n",
              "\n",
              "  genre_4  \n",
              "1       7  \n",
              "2       6  \n",
              "\n",
              "[2 rows x 24 columns]"
            ],
            "text/html": [
              "\n",
              "  <div id=\"df-7fdd6b5f-9849-4134-8d2d-72de2792b3f5\">\n",
              "    <div class=\"colab-df-container\">\n",
              "      <div>\n",
              "<style scoped>\n",
              "    .dataframe tbody tr th:only-of-type {\n",
              "        vertical-align: middle;\n",
              "    }\n",
              "\n",
              "    .dataframe tbody tr th {\n",
              "        vertical-align: top;\n",
              "    }\n",
              "\n",
              "    .dataframe thead th {\n",
              "        text-align: right;\n",
              "    }\n",
              "</style>\n",
              "<table border=\"1\" class=\"dataframe\">\n",
              "  <thead>\n",
              "    <tr style=\"text-align: right;\">\n",
              "      <th></th>\n",
              "      <th>Unnamed: 0</th>\n",
              "      <th>isbn</th>\n",
              "      <th>average_rating</th>\n",
              "      <th>description</th>\n",
              "      <th>link</th>\n",
              "      <th>authors</th>\n",
              "      <th>publisher</th>\n",
              "      <th>num_pages</th>\n",
              "      <th>isbn13</th>\n",
              "      <th>publication_year</th>\n",
              "      <th>...</th>\n",
              "      <th>first</th>\n",
              "      <th>second</th>\n",
              "      <th>third</th>\n",
              "      <th>genre_cleaned</th>\n",
              "      <th>genre_cleaned2</th>\n",
              "      <th>genre_cleaned3</th>\n",
              "      <th>genre_1</th>\n",
              "      <th>genre_2</th>\n",
              "      <th>genre_3</th>\n",
              "      <th>genre_4</th>\n",
              "    </tr>\n",
              "  </thead>\n",
              "  <tbody>\n",
              "    <tr>\n",
              "      <th>1</th>\n",
              "      <td>1</td>\n",
              "      <td>0743509986</td>\n",
              "      <td>3.23</td>\n",
              "      <td>Anita Diamant's international bestseller \"The ...</td>\n",
              "      <td>https://www.goodreads.com/book/show/1333909.Go...</td>\n",
              "      <td>626222.0</td>\n",
              "      <td>Simon &amp; Schuster Audio</td>\n",
              "      <td>NaN</td>\n",
              "      <td>9780743509985</td>\n",
              "      <td>2001.0</td>\n",
              "      <td>...</td>\n",
              "      <td>fiction</td>\n",
              "      <td>history, historical fiction, biography</td>\n",
              "      <td>NaN</td>\n",
              "      <td>history, historical fiction, biography</td>\n",
              "      <td>fiction: history, historical fiction, biography</td>\n",
              "      <td>fiction: history, historical fiction, biography</td>\n",
              "      <td>3</td>\n",
              "      <td>4</td>\n",
              "      <td>7</td>\n",
              "      <td>7</td>\n",
              "    </tr>\n",
              "    <tr>\n",
              "      <th>2</th>\n",
              "      <td>2</td>\n",
              "      <td>NaN</td>\n",
              "      <td>4.03</td>\n",
              "      <td>Omnibus book club edition containing the Ladie...</td>\n",
              "      <td>https://www.goodreads.com/book/show/7327624-th...</td>\n",
              "      <td>10333.0</td>\n",
              "      <td>Nelson Doubleday, Inc.</td>\n",
              "      <td>600.0</td>\n",
              "      <td>NaN</td>\n",
              "      <td>1987.0</td>\n",
              "      <td>...</td>\n",
              "      <td>fantasy, paranormal</td>\n",
              "      <td>fiction</td>\n",
              "      <td>mystery, thriller, crime</td>\n",
              "      <td>fantasy, paranormal</td>\n",
              "      <td>fantasy, paranormal</td>\n",
              "      <td>fiction: fantasy, paranormal</td>\n",
              "      <td>2</td>\n",
              "      <td>2</td>\n",
              "      <td>2</td>\n",
              "      <td>6</td>\n",
              "    </tr>\n",
              "  </tbody>\n",
              "</table>\n",
              "<p>2 rows × 24 columns</p>\n",
              "</div>\n",
              "      <button class=\"colab-df-convert\" onclick=\"convertToInteractive('df-7fdd6b5f-9849-4134-8d2d-72de2792b3f5')\"\n",
              "              title=\"Convert this dataframe to an interactive table.\"\n",
              "              style=\"display:none;\">\n",
              "        \n",
              "  <svg xmlns=\"http://www.w3.org/2000/svg\" height=\"24px\"viewBox=\"0 0 24 24\"\n",
              "       width=\"24px\">\n",
              "    <path d=\"M0 0h24v24H0V0z\" fill=\"none\"/>\n",
              "    <path d=\"M18.56 5.44l.94 2.06.94-2.06 2.06-.94-2.06-.94-.94-2.06-.94 2.06-2.06.94zm-11 1L8.5 8.5l.94-2.06 2.06-.94-2.06-.94L8.5 2.5l-.94 2.06-2.06.94zm10 10l.94 2.06.94-2.06 2.06-.94-2.06-.94-.94-2.06-.94 2.06-2.06.94z\"/><path d=\"M17.41 7.96l-1.37-1.37c-.4-.4-.92-.59-1.43-.59-.52 0-1.04.2-1.43.59L10.3 9.45l-7.72 7.72c-.78.78-.78 2.05 0 2.83L4 21.41c.39.39.9.59 1.41.59.51 0 1.02-.2 1.41-.59l7.78-7.78 2.81-2.81c.8-.78.8-2.07 0-2.86zM5.41 20L4 18.59l7.72-7.72 1.47 1.35L5.41 20z\"/>\n",
              "  </svg>\n",
              "      </button>\n",
              "      \n",
              "  <style>\n",
              "    .colab-df-container {\n",
              "      display:flex;\n",
              "      flex-wrap:wrap;\n",
              "      gap: 12px;\n",
              "    }\n",
              "\n",
              "    .colab-df-convert {\n",
              "      background-color: #E8F0FE;\n",
              "      border: none;\n",
              "      border-radius: 50%;\n",
              "      cursor: pointer;\n",
              "      display: none;\n",
              "      fill: #1967D2;\n",
              "      height: 32px;\n",
              "      padding: 0 0 0 0;\n",
              "      width: 32px;\n",
              "    }\n",
              "\n",
              "    .colab-df-convert:hover {\n",
              "      background-color: #E2EBFA;\n",
              "      box-shadow: 0px 1px 2px rgba(60, 64, 67, 0.3), 0px 1px 3px 1px rgba(60, 64, 67, 0.15);\n",
              "      fill: #174EA6;\n",
              "    }\n",
              "\n",
              "    [theme=dark] .colab-df-convert {\n",
              "      background-color: #3B4455;\n",
              "      fill: #D2E3FC;\n",
              "    }\n",
              "\n",
              "    [theme=dark] .colab-df-convert:hover {\n",
              "      background-color: #434B5C;\n",
              "      box-shadow: 0px 1px 3px 1px rgba(0, 0, 0, 0.15);\n",
              "      filter: drop-shadow(0px 1px 2px rgba(0, 0, 0, 0.3));\n",
              "      fill: #FFFFFF;\n",
              "    }\n",
              "  </style>\n",
              "\n",
              "      <script>\n",
              "        const buttonEl =\n",
              "          document.querySelector('#df-7fdd6b5f-9849-4134-8d2d-72de2792b3f5 button.colab-df-convert');\n",
              "        buttonEl.style.display =\n",
              "          google.colab.kernel.accessAllowed ? 'block' : 'none';\n",
              "\n",
              "        async function convertToInteractive(key) {\n",
              "          const element = document.querySelector('#df-7fdd6b5f-9849-4134-8d2d-72de2792b3f5');\n",
              "          const dataTable =\n",
              "            await google.colab.kernel.invokeFunction('convertToInteractive',\n",
              "                                                     [key], {});\n",
              "          if (!dataTable) return;\n",
              "\n",
              "          const docLinkHtml = 'Like what you see? Visit the ' +\n",
              "            '<a target=\"_blank\" href=https://colab.research.google.com/notebooks/data_table.ipynb>data table notebook</a>'\n",
              "            + ' to learn more about interactive tables.';\n",
              "          element.innerHTML = '';\n",
              "          dataTable['output_type'] = 'display_data';\n",
              "          await google.colab.output.renderOutput(dataTable, element);\n",
              "          const docLink = document.createElement('div');\n",
              "          docLink.innerHTML = docLinkHtml;\n",
              "          element.appendChild(docLink);\n",
              "        }\n",
              "      </script>\n",
              "    </div>\n",
              "  </div>\n",
              "  "
            ]
          },
          "metadata": {},
          "execution_count": 5
        }
      ],
      "source": [
        "desc_data.head(2)"
      ]
    },
    {
      "cell_type": "markdown",
      "metadata": {
        "id": "uOuSFTb1JKnh"
      },
      "source": [
        "# Initial Cleaning: Nondescript Descriptions and Oversampling"
      ]
    },
    {
      "cell_type": "markdown",
      "metadata": {
        "id": "2ynA0ekBCzSC"
      },
      "source": [
        "We can clearly see that the top 5 book descriptions are not book-specific at all and will probably not help determine book genre.  Overall, there are 1470 records attributed to these descriptions. Lets take a closer look and filter those out to have 1,232,108 final rows."
      ]
    },
    {
      "cell_type": "code",
      "execution_count": null,
      "metadata": {
        "colab": {
          "base_uri": "https://localhost:8080/"
        },
        "id": "-o40fekVBLKj",
        "outputId": "65a4f82f-d452-4a45-f7b8-b02c5d930cd0"
      },
      "outputs": [
        {
          "output_type": "execute_result",
          "data": {
            "text/plain": [
              "['This book was converted from its physical edition to the digital format by a community of volunteers. You may find it for free on the web. Purchase of the Kindle edition includes wireless delivery.',\n",
              " 'This is a pre-1923 historical reproduction that was curated for quality. Quality assurance was conducted on each of these books in an attempt to remove books with imperfections introduced by the digitization process. Though we have made best efforts - the books may have occasional errors that do not impede the reading experience. We believe this work is culturally important and have elected to bring the book back into print as part of our continuing commitment to the preservation of printed works worldwide.',\n",
              " 'Many of the earliest books, particularly those dating back to the 1900s and before, are now extremely scarce and increasingly expensive. We are republishing these classic works in affordable, high quality, modern editions, using the original text and artwork.',\n",
              " 'This work has been selected by scholars as being culturally important, and is part of the knowledge base of civilization as we know it. This work was reproduced from the original artifact, and remains as true to the original work as possible. Therefore, you will see the original copyright references, library stamps (as most of these works have been housed in our most important libraries around the world), and other notations in the work. This work is in the public domain in the United States of America, and possibly other nations. Within the United States, you may freely copy and distribute this work, as no entity (individual or corporate) has a copyright on the body of the work.As a reproduction of a historical artifact, this work may contain missing or blurred pages, poor pictures, errant marks, etc. Scholars believe, and we concur, that this work is important enough to be preserved, reproduced, and made generally available to the public. We appreciate your support of the preservation process, and thank you for being an important part of keeping this knowledge alive and relevant.',\n",
              " 'A Simon & Schuster eBook. Simon & Schuster has a great book for every reader.',\n",
              " \"Mary Shelley's Frankenstein is the world's most famous Gothic novel about eccentric scientist Victor Frankenstein, who creates a grotesque creature in an unorthodox scientific experiment. Shelley's work is considered to be the world's first science fiction, with Frankenstein's monster being a symbol of science gone awry. Shelley's masterpiece has inspired numerous films, plays and other books. This, the 1831 edition, contains the author's final revisions.\",\n",
              " \"Emily Bronte's only novel, a work of tremendous and far-reaching influence, the Penguin Classics edition of Wuthering Heights is the definitive edition of the text, edited with an introduction by Pauline Nestor. Lockwood, the new tenant of Thrushcross Grange, situated on the bleak Yorkshire moors, is forced to seek shelter one night at Wuthering Heights, the home of his landlord. There he discovers the history of the tempestuous events that took place years before; of the intense relationship between the gypsy foundling Heathcliff and Catherine Earnshaw; and how Catherine, forced to choose between passionate, tortured Heathcliff and gentle, well-bred Edgar Linton, surrendered to the expectations of her class. As Heathcliff's bitterness and vengeance at his betrayal is visited upon the next generation, their innocent heirs must struggle to escape the legacy of the past.\",\n",
              " 'In this historic romance, young Elizabeth Bennet strives for love, independence and honesty in the vapid high society of 19th century England.',\n",
              " \"Orphaned into the household of her Aunt Reed at Gateshead, subject to the cruel regime at Lowood charity school, Jane Eyre nonetheless emerges unbroken in spirit and integrity. She takes up the post of governess at Thornfield, falls in love with Mr. Rochester, and discovers the impediment to their lawful marriage in a story that transcends melodrama to portray a woman's passionate search for a wider and richer life than Victorian society traditionally allowed.\\nWith a heroine full of yearning, the dangerous secrets she encounters, and the choices she finally makes, Charlotte Bronte's innovative and enduring romantic novel continues to engage and provoke readers.\",\n",
              " 'Source of legend and lyric, reference and conjecture, Alice\\'s Adventures in Wonderland is for most children pure pleasure in prose. While adults try to decipher Lewis Carroll\\'s putative use of complex mathematical codes in the text, or debate his alleged use of opium, young readers simply dive with Alice through the rabbit hole, pursuing \"The dream-child moving through a land / Of wonders wild and new.\" There they encounter the White Rabbit, the Queen of Hearts, the Mock Turtle, and the Mad Hatter, among a multitude of other characters--extinct, fantastical, and commonplace creatures. Alice journeys through this Wonderland, trying to fathom the meaning of her strange experiences. But they turn out to be \"curiouser and curiouser,\" seemingly without moral or sense.\\nFor more than 130 years, children have reveled in the delightfully non-moralistic, non-educational virtues of this classic. In fact, at every turn, Alice\\'s new companions scoff at her traditional education. The Mock Turtle, for example, remarks that he took the \"regular course\" in school: Reeling, Writhing, and branches of Arithmetic-Ambition, Distraction, Uglification, and Derision. Carroll believed John Tenniel\\'s illustrations were as important as his text. Naturally, Carroll\\'s instincts were good; the masterful drawings are inextricably tied to the well-loved story.']"
            ]
          },
          "metadata": {},
          "execution_count": 6
        }
      ],
      "source": [
        "n_top_desc = 10\n",
        "top_10_desc = desc_data['description'].value_counts()[:n_top_desc].index.tolist()\n",
        "top_10_desc"
      ]
    },
    {
      "cell_type": "code",
      "execution_count": null,
      "metadata": {
        "id": "IpAXyU0a-3Nm"
      },
      "outputs": [],
      "source": [
        "desc_data = desc_data.loc[desc_data['description'].isin(top_10_desc[:5])==False]"
      ]
    },
    {
      "cell_type": "markdown",
      "metadata": {
        "id": "OXqkl7snJdfX"
      },
      "source": [
        "We have also found significant class imbalance (see the book title ipynb).  To combat this, we will see if oversampling will improve our model performance.  Lets make an oversampled dataset.  This will take us from 1,232,108 records up to 2,241,730.  We define some helper functions so we can keep track in the future of our edits to the data. "
      ]
    },
    {
      "cell_type": "code",
      "execution_count": null,
      "metadata": {
        "id": "ZurIG-07H9mp"
      },
      "outputs": [],
      "source": [
        "def get_genre(data, genre):\n",
        "  return data[['book_id', 'description', genre]]"
      ]
    },
    {
      "cell_type": "code",
      "execution_count": null,
      "metadata": {
        "id": "24mAF8JTDjZu"
      },
      "outputs": [],
      "source": [
        "def oversample_dataset(data, label):\n",
        "  c_size = dict(Counter(data[label]))\n",
        "  max_val = max(c_size.values())\n",
        "  oversampling_list = []\n",
        "\n",
        "  for i in data[label].unique():\n",
        "    oversampling_list.extend(data[data[label] == i].sample(max_val, replace = True)['book_id'])\n",
        "  df_over = pd.DataFrame({'book_id': oversampling_list})\n",
        "  df_over = df_over.merge(data, on='book_id', how='left')\n",
        "  return df_over"
      ]
    },
    {
      "cell_type": "code",
      "execution_count": null,
      "metadata": {
        "id": "f5BUTzneMTjO"
      },
      "outputs": [],
      "source": [
        "def get_train_test(data, genre, over):\n",
        "  df_genre = get_genre(data, genre)\n",
        "  # set oversampled to -1 unless we want the oversampled data\n",
        "  if over > 0:\n",
        "      df_genre = oversample_dataset(df_genre, genre)\n",
        "  X = df_genre['description']\n",
        "  y = df_genre[genre]\n",
        "\n",
        "  # Get train and test\n",
        "  X_train, X_test, y_train, y_test = train_test_split(X, y)\n",
        "  cv = CountVectorizer(analyzer = 'word',ngram_range=(1,1), stop_words='english')\n",
        "  X_train_cv = cv.fit_transform(X_train)\n",
        "  X_test_cv = cv.transform(X_test)\n",
        "\n",
        "  return X_train_cv, X_test_cv, y_train, y_test "
      ]
    },
    {
      "cell_type": "code",
      "source": [
        "#----------------- HELPER FUNCTIONS -----------------#\n",
        "\n",
        "def set_x_y(data, X_column, y_column):\n",
        "  X = data[X_column]\n",
        "  y = data[y_column]\n",
        "  X_train, X_test, y_train, y_test = train_test_split(X, y, test_size=0.2, random_state=42)\n",
        "  return X_train, X_test, y_train, y_test\n",
        "def set_x_y_clean(data, desc, y_column):\n",
        "  X = desc\n",
        "  y = data[y_column]\n",
        "  X_train, X_test, y_train, y_test = train_test_split(X, y, test_size=0.2, random_state=42)\n",
        "  return X_train, X_test, y_train, y_test\n",
        "def reset_data(all_data):\n",
        "  filter_for_descriptions = all_data[all_data['description'] == all_data['description']]\n",
        "  le = LabelEncoder()\n",
        "  filter_for_descriptions['genre_1'] = le.fit_transform(filter_for_descriptions['first'])\n",
        "  filter_for_descriptions['genre_2'] = le.fit_transform(filter_for_descriptions['genre_cleaned'])\n",
        "  filter_for_descriptions['genre_3'] = le.fit_transform(filter_for_descriptions['genre_cleaned2'])\n",
        "  filter_for_descriptions['genre_4'] = le.fit_transform(filter_for_descriptions['genre_cleaned3'])\n",
        "  return filter_for_descriptions"
      ],
      "metadata": {
        "id": "D_fANtQlT7jw"
      },
      "execution_count": null,
      "outputs": []
    },
    {
      "cell_type": "code",
      "source": [
        "def get_train_test2(data, genre, over):\n",
        "  df_genre = get_genre(data, genre)\n",
        "  # set oversampled to -1 unless we want  the oversampled data\n",
        "  if over > 0:\n",
        "      df_genre = oversample_dataset(df_genre, genre)\n",
        "  X = df_genre['description']\n",
        "  y = df_genre[genre]\n",
        "\n",
        "  # Get train and test  \n",
        "  cv = CountVectorizer(analyzer = 'word',ngram_range=(1,1), stop_words='english')\n",
        "  CV = cv.fit_transform(X)\n",
        "  X_train_cv, X_test_cv, y_train_cv, y_test_cv = train_test_split(CV, y)\n",
        "\n",
        "  return X_train_cv, X_test_cv, y_train_cv, y_test_cv, CV, y, cv"
      ],
      "metadata": {
        "id": "qgWQE631Obi6"
      },
      "execution_count": null,
      "outputs": []
    },
    {
      "cell_type": "markdown",
      "metadata": {
        "id": "ZRuNSvHwvxxc"
      },
      "source": [
        "# A Weak Baseline: Majority Class Classifier"
      ]
    },
    {
      "cell_type": "code",
      "execution_count": null,
      "metadata": {
        "colab": {
          "base_uri": "https://localhost:8080/"
        },
        "id": "Xp0swreHvzLC",
        "outputId": "ea3478a0-8dd9-41b2-aac6-e277fd5db903"
      },
      "outputs": [
        {
          "output_type": "stream",
          "name": "stdout",
          "text": [
            "Our majority class is  3  which is  fiction\n"
          ]
        }
      ],
      "source": [
        "majority_class = desc_data['genre_1'].value_counts().idxmax()\n",
        "print(\"Our majority class is \", majority_class, ' which is ', genre_dict_1[majority_class])\n",
        "\n",
        "# gets train test split for data according to genre 1, not oversampled\n",
        "X_train, X_test, y_train, y_test = get_train_test(desc_data, 'genre_1', -1)"
      ]
    },
    {
      "cell_type": "code",
      "execution_count": null,
      "metadata": {
        "colab": {
          "base_uri": "https://localhost:8080/"
        },
        "id": "LRavlV7uwcO_",
        "outputId": "f25f8b0d-5c5a-4de1-bc02-62b2b19866ff"
      },
      "outputs": [
        {
          "output_type": "stream",
          "name": "stdout",
          "text": [
            "MAJORITY CLASS F1 SCORE:  0.2078\n"
          ]
        }
      ],
      "source": [
        "y_pred_majority = np.full((len(y_test)),majority_class)\n",
        "score_majority = f1_score(y_test, y_pred_majority, average='micro')\n",
        "print('MAJORITY CLASS F1 SCORE: ', np.round(score_majority,4))"
      ]
    },
    {
      "cell_type": "markdown",
      "metadata": {
        "id": "avwsYle7PHMq"
      },
      "source": [
        "# Simple Bag of Words for Naive Bayes"
      ]
    },
    {
      "cell_type": "markdown",
      "metadata": {
        "id": "rCe9_V5APKbU"
      },
      "source": [
        "Lets test a simple bag of words using naive bayes.  We will split into train/test data, use a CountVectorizer, and test both the normal and oversampled data.  Lets see our initial results. \n"
      ]
    },
    {
      "cell_type": "code",
      "execution_count": null,
      "metadata": {
        "colab": {
          "base_uri": "https://localhost:8080/"
        },
        "id": "PZ8c4zD1IvcQ",
        "outputId": "bf129953-545d-43a3-b28c-d363de7cb734"
      },
      "outputs": [
        {
          "output_type": "stream",
          "name": "stdout",
          "text": [
            "--------------  genre_1  --------------\n",
            "NORMAL -- \tF-1 train:  0.7343  F-1 test:  0.7082\n",
            "--------------  genre_2  --------------\n",
            "NORMAL -- \tF-1 train:  0.7351  F-1 test:  0.7102\n",
            "--------------  genre_3  --------------\n",
            "NORMAL -- \tF-1 train:  0.6957  F-1 test:  0.6658\n",
            "--------------  genre_4  --------------\n",
            "NORMAL -- \tF-1 train:  0.6341  F-1 test:  0.589\n"
          ]
        }
      ],
      "source": [
        "y_genres = ['genre_1','genre_2','genre_3','genre_4']\n",
        "for genre in y_genres:\n",
        "  print('-------------- ', genre, ' --------------')\n",
        "  # Get train and test, both oversampled and normal\n",
        "  X_train, X_test, y_train, y_test = get_train_test(desc_data, genre, -1)\n",
        "\n",
        "  # train naive bayes classifier\n",
        "  clf = MultinomialNB()\n",
        "  clf.fit(X_train, y_train)\n",
        "\n",
        "  # create predictions for not oversampled data and print f1 score\n",
        "  y_pred_train = clf.predict(X_train)\n",
        "  y_pred_test = clf.predict(X_test)\n",
        "  score_train = f1_score(y_train, y_pred_train, average='micro')\n",
        "  score_test = f1_score(y_test, y_pred_test, average='micro')\n",
        "  print('NORMAL -- \\tF-1 train: ', np.round(score_train,4), ' F-1 test: ', np.round(score_test,4))\n",
        "\n"
      ]
    },
    {
      "cell_type": "code",
      "execution_count": null,
      "metadata": {
        "colab": {
          "base_uri": "https://localhost:8080/"
        },
        "id": "ywtYJcSQKVY3",
        "outputId": "e724cc9d-53d7-4c91-baa9-25b900705959"
      },
      "outputs": [
        {
          "output_type": "stream",
          "name": "stdout",
          "text": [
            "OVERSAMPLED -- \tF-1 train:  0.7687  F-1 test:  0.7577\n"
          ]
        }
      ],
      "source": [
        "genre = 'first'\n",
        "X_train_oversampled, X_test_oversampled, y_train_oversampled, y_test_oversampled, X_cv, y_cv, cv_vect = get_train_test2(desc_data, genre, 1)\n",
        "\n",
        "# train model to create prediction for oversampled data and print f1 score\n",
        "clf = MultinomialNB()\n",
        "clf.fit(X_train_oversampled, y_train_oversampled)\n",
        "y_pred_train_over = clf.predict(X_train_oversampled)\n",
        "y_pred_test_over = clf.predict(X_test_oversampled)\n",
        "score_train_over = f1_score(y_train_oversampled, y_pred_train_over, average='micro')\n",
        "score_test_over = f1_score(y_test_oversampled, y_pred_test_over, average='micro')\n",
        "print('OVERSAMPLED -- \\tF-1 train: ', np.round(score_train_over,4), ' F-1 test: ', np.round(score_test_over,4))"
      ]
    },
    {
      "cell_type": "code",
      "execution_count": null,
      "metadata": {
        "id": "fd1ZlNWKdmhO"
      },
      "outputs": [],
      "source": [
        "filename = 'nb_oversampled_updated_train_test.sav'\n",
        "pickle.dump(clf, open(filename, 'wb'))"
      ]
    },
    {
      "cell_type": "markdown",
      "source": [
        "Lets grab the predictions from this Naive Bayes model to test our ensemble classifier later!  We can also visualize how Naive Bayes did over the testing data.  Note these are all for the oversampled data!  First we show how our model performed on the oversampled data using sklearn's classification_report.  Then we transform the descriptions into vectors and predict those, we will hopefully utilize these in an ensemble method! Over all the data, not just the test data, the model performs at 0.72 as an f1 score.  Lets see if we can improve this!"
      ],
      "metadata": {
        "id": "qP-b7nw3McsH"
      }
    },
    {
      "cell_type": "code",
      "source": [
        "from sklearn.metrics import classification_report\n",
        "print(classification_report(y_test_oversampled, y_pred_test_over, target_names=genre_dict_1))"
      ],
      "metadata": {
        "colab": {
          "base_uri": "https://localhost:8080/"
        },
        "id": "xUdykhWRST9z",
        "outputId": "cfc6612c-5b65-4f26-972c-ac57eb078c05"
      },
      "execution_count": null,
      "outputs": [
        {
          "output_type": "stream",
          "name": "stdout",
          "text": [
            "                                        precision    recall  f1-score   support\n",
            "\n",
            "                              children       0.80      0.81      0.81     63616\n",
            "                       comics, graphic       0.90      0.75      0.82     63705\n",
            "                   fantasy, paranormal       0.71      0.74      0.72     63274\n",
            "                               fiction       0.64      0.55      0.59     63615\n",
            "history, historical fiction, biography       0.72      0.67      0.69     64136\n",
            "              mystery, thriller, crime       0.78      0.83      0.81     63376\n",
            "                           non-fiction       0.75      0.69      0.72     63280\n",
            "                                poetry       0.85      0.90      0.88     63665\n",
            "                               romance       0.71      0.85      0.77     63414\n",
            "                           young-adult       0.74      0.79      0.76     63997\n",
            "\n",
            "                              accuracy                           0.76    636078\n",
            "                             macro avg       0.76      0.76      0.76    636078\n",
            "                          weighted avg       0.76      0.76      0.76    636078\n",
            "\n"
          ]
        }
      ]
    },
    {
      "cell_type": "code",
      "source": [
        "nb_all = cv_vect.transform(desc_data['description'])"
      ],
      "metadata": {
        "id": "o35iXl9XUJRp"
      },
      "execution_count": null,
      "outputs": []
    },
    {
      "cell_type": "code",
      "source": [
        "nb_all_pred = clf.predict(nb_all)"
      ],
      "metadata": {
        "id": "ivj5YkM0M6sT"
      },
      "execution_count": null,
      "outputs": []
    },
    {
      "cell_type": "code",
      "source": [
        "df_nb_final = pd.DataFrame(list(zip(desc_data['book_id'], nb_all_pred, desc_data['first'])),\n",
        "               columns =['bid', 'nb_predictions', 'true_label'])\n",
        "df_nb_final.to_csv('all_nb_desc_final_predictions.csv')"
      ],
      "metadata": {
        "id": "HUvgQxoqUuBa"
      },
      "execution_count": null,
      "outputs": []
    },
    {
      "cell_type": "markdown",
      "metadata": {
        "id": "PbNacXSV0zl3"
      },
      "source": [
        "# LSTM"
      ]
    },
    {
      "cell_type": "markdown",
      "metadata": {
        "id": "hHA8syj7f7qb"
      },
      "source": [
        "## Lets try to clean the descriptions a little bit...\n",
        "\n",
        "We can clearly see genre_3 and genre_4 perform worse than genre_1 and genre_2.  Lets clean the data a bit.  First lets look at how long the book descriptions generally are. Overall, we can see in the histogram below that almost every book description is less than 500 words.  And the vast majority are below 250 words."
      ]
    },
    {
      "cell_type": "code",
      "execution_count": null,
      "metadata": {
        "colab": {
          "base_uri": "https://localhost:8080/"
        },
        "id": "vD4GdKA-qHcq",
        "outputId": "8642817d-50e3-4b03-9b89-ea34fb7bca0a"
      },
      "outputs": [
        {
          "output_type": "stream",
          "name": "stderr",
          "text": [
            "/usr/local/lib/python3.7/dist-packages/pandas/core/indexing.py:1667: SettingWithCopyWarning: \n",
            "A value is trying to be set on a copy of a slice from a DataFrame.\n",
            "Try using .loc[row_indexer,col_indexer] = value instead\n",
            "\n",
            "See the caveats in the documentation: https://pandas.pydata.org/pandas-docs/stable/user_guide/indexing.html#returning-a-view-versus-a-copy\n",
            "  self.obj[key] = value\n"
          ]
        }
      ],
      "source": [
        "desc_data, genre_dict_1, genre_dict_2, genre_dict_3, genre_dict_4 = reset_description_data(all_data)\n",
        "desc_1 = get_genre(desc_data, 'genre_1')\n",
        "desc_2 = get_genre(desc_data, 'genre_2')"
      ]
    },
    {
      "cell_type": "code",
      "execution_count": null,
      "metadata": {
        "colab": {
          "base_uri": "https://localhost:8080/",
          "height": 406
        },
        "id": "z2n5JVO8yans",
        "outputId": "6fc913a2-68cf-47e9-be17-2811692bb734"
      },
      "outputs": [
        {
          "output_type": "stream",
          "name": "stderr",
          "text": [
            "/usr/local/lib/python3.7/dist-packages/ipykernel_launcher.py:1: SettingWithCopyWarning: \n",
            "A value is trying to be set on a copy of a slice from a DataFrame.\n",
            "Try using .loc[row_indexer,col_indexer] = value instead\n",
            "\n",
            "See the caveats in the documentation: https://pandas.pydata.org/pandas-docs/stable/user_guide/indexing.html#returning-a-view-versus-a-copy\n",
            "  \"\"\"Entry point for launching an IPython kernel.\n"
          ]
        },
        {
          "output_type": "execute_result",
          "data": {
            "text/plain": [
              "<function matplotlib.pyplot.show>"
            ]
          },
          "metadata": {},
          "execution_count": 22
        },
        {
          "output_type": "display_data",
          "data": {
            "text/plain": [
              "<Figure size 432x288 with 1 Axes>"
            ],
            "image/png": "[encoded data removed]"
          },
          "metadata": {
            "needs_background": "light"
          }
        }
      ],
      "source": [
        "desc_data['desc_len'] = [len(i.split()) for i in desc_data.description]\n",
        "sdl = sorted(desc_data['desc_len'])\n",
        "_ = plt.hist(sdl, 1000, range=[0, 2000])\n",
        "plt.show"
      ]
    },
    {
      "cell_type": "markdown",
      "metadata": {
        "id": "umRzF3hjy27q"
      },
      "source": [
        "Lets make the descriptions lowercase, remove stop words, and lemmatize. "
      ]
    },
    {
      "cell_type": "code",
      "execution_count": null,
      "metadata": {
        "colab": {
          "base_uri": "https://localhost:8080/",
          "height": 251
        },
        "id": "Ocdeojlam2KG",
        "outputId": "2dca642f-2d2c-491b-dc0f-504d18e5d04c"
      },
      "outputs": [
        {
          "name": "stderr",
          "output_type": "stream",
          "text": [
            "/usr/local/lib/python3.7/dist-packages/ipykernel_launcher.py:1: SettingWithCopyWarning: \n",
            "A value is trying to be set on a copy of a slice from a DataFrame.\n",
            "Try using .loc[row_indexer,col_indexer] = value instead\n",
            "\n",
            "See the caveats in the documentation: https://pandas.pydata.org/pandas-docs/stable/user_guide/indexing.html#returning-a-view-versus-a-copy\n",
            "  \"\"\"Entry point for launching an IPython kernel.\n"
          ]
        },
        {
          "data": {
            "text/html": [
              "\n",
              "  <div id=\"df-707f237e-541c-45e1-9eb9-661d4c21c441\">\n",
              "    <div class=\"colab-df-container\">\n",
              "      <div>\n",
              "<style scoped>\n",
              "    .dataframe tbody tr th:only-of-type {\n",
              "        vertical-align: middle;\n",
              "    }\n",
              "\n",
              "    .dataframe tbody tr th {\n",
              "        vertical-align: top;\n",
              "    }\n",
              "\n",
              "    .dataframe thead th {\n",
              "        text-align: right;\n",
              "    }\n",
              "</style>\n",
              "<table border=\"1\" class=\"dataframe\">\n",
              "  <thead>\n",
              "    <tr style=\"text-align: right;\">\n",
              "      <th></th>\n",
              "      <th>book_id</th>\n",
              "      <th>description</th>\n",
              "      <th>genre_1</th>\n",
              "    </tr>\n",
              "  </thead>\n",
              "  <tbody>\n",
              "    <tr>\n",
              "      <th>1</th>\n",
              "      <td>1333909</td>\n",
              "      <td>anita diamant's international bestseller \"the ...</td>\n",
              "      <td>3</td>\n",
              "    </tr>\n",
              "    <tr>\n",
              "      <th>2</th>\n",
              "      <td>7327624</td>\n",
              "      <td>omnibus book club edition containing the ladie...</td>\n",
              "      <td>2</td>\n",
              "    </tr>\n",
              "    <tr>\n",
              "      <th>3</th>\n",
              "      <td>6066819</td>\n",
              "      <td>addie downs and valerie adler were eight when ...</td>\n",
              "      <td>3</td>\n",
              "    </tr>\n",
              "  </tbody>\n",
              "</table>\n",
              "</div>\n",
              "      <button class=\"colab-df-convert\" onclick=\"convertToInteractive('df-707f237e-541c-45e1-9eb9-661d4c21c441')\"\n",
              "              title=\"Convert this dataframe to an interactive table.\"\n",
              "              style=\"display:none;\">\n",
              "        \n",
              "  <svg xmlns=\"http://www.w3.org/2000/svg\" height=\"24px\"viewBox=\"0 0 24 24\"\n",
              "       width=\"24px\">\n",
              "    <path d=\"M0 0h24v24H0V0z\" fill=\"none\"/>\n",
              "    <path d=\"M18.56 5.44l.94 2.06.94-2.06 2.06-.94-2.06-.94-.94-2.06-.94 2.06-2.06.94zm-11 1L8.5 8.5l.94-2.06 2.06-.94-2.06-.94L8.5 2.5l-.94 2.06-2.06.94zm10 10l.94 2.06.94-2.06 2.06-.94-2.06-.94-.94-2.06-.94 2.06-2.06.94z\"/><path d=\"M17.41 7.96l-1.37-1.37c-.4-.4-.92-.59-1.43-.59-.52 0-1.04.2-1.43.59L10.3 9.45l-7.72 7.72c-.78.78-.78 2.05 0 2.83L4 21.41c.39.39.9.59 1.41.59.51 0 1.02-.2 1.41-.59l7.78-7.78 2.81-2.81c.8-.78.8-2.07 0-2.86zM5.41 20L4 18.59l7.72-7.72 1.47 1.35L5.41 20z\"/>\n",
              "  </svg>\n",
              "      </button>\n",
              "      \n",
              "  <style>\n",
              "    .colab-df-container {\n",
              "      display:flex;\n",
              "      flex-wrap:wrap;\n",
              "      gap: 12px;\n",
              "    }\n",
              "\n",
              "    .colab-df-convert {\n",
              "      background-color: #E8F0FE;\n",
              "      border: none;\n",
              "      border-radius: 50%;\n",
              "      cursor: pointer;\n",
              "      display: none;\n",
              "      fill: #1967D2;\n",
              "      height: 32px;\n",
              "      padding: 0 0 0 0;\n",
              "      width: 32px;\n",
              "    }\n",
              "\n",
              "    .colab-df-convert:hover {\n",
              "      background-color: #E2EBFA;\n",
              "      box-shadow: 0px 1px 2px rgba(60, 64, 67, 0.3), 0px 1px 3px 1px rgba(60, 64, 67, 0.15);\n",
              "      fill: #174EA6;\n",
              "    }\n",
              "\n",
              "    [theme=dark] .colab-df-convert {\n",
              "      background-color: #3B4455;\n",
              "      fill: #D2E3FC;\n",
              "    }\n",
              "\n",
              "    [theme=dark] .colab-df-convert:hover {\n",
              "      background-color: #434B5C;\n",
              "      box-shadow: 0px 1px 3px 1px rgba(0, 0, 0, 0.15);\n",
              "      filter: drop-shadow(0px 1px 2px rgba(0, 0, 0, 0.3));\n",
              "      fill: #FFFFFF;\n",
              "    }\n",
              "  </style>\n",
              "\n",
              "      <script>\n",
              "        const buttonEl =\n",
              "          document.querySelector('#df-707f237e-541c-45e1-9eb9-661d4c21c441 button.colab-df-convert');\n",
              "        buttonEl.style.display =\n",
              "          google.colab.kernel.accessAllowed ? 'block' : 'none';\n",
              "\n",
              "        async function convertToInteractive(key) {\n",
              "          const element = document.querySelector('#df-707f237e-541c-45e1-9eb9-661d4c21c441');\n",
              "          const dataTable =\n",
              "            await google.colab.kernel.invokeFunction('convertToInteractive',\n",
              "                                                     [key], {});\n",
              "          if (!dataTable) return;\n",
              "\n",
              "          const docLinkHtml = 'Like what you see? Visit the ' +\n",
              "            '<a target=\"_blank\" href=https://colab.research.google.com/notebooks/data_table.ipynb>data table notebook</a>'\n",
              "            + ' to learn more about interactive tables.';\n",
              "          element.innerHTML = '';\n",
              "          dataTable['output_type'] = 'display_data';\n",
              "          await google.colab.output.renderOutput(dataTable, element);\n",
              "          const docLink = document.createElement('div');\n",
              "          docLink.innerHTML = docLinkHtml;\n",
              "          element.appendChild(docLink);\n",
              "        }\n",
              "      </script>\n",
              "    </div>\n",
              "  </div>\n",
              "  "
            ],
            "text/plain": [
              "   book_id                                        description  genre_1\n",
              "1  1333909  anita diamant's international bestseller \"the ...        3\n",
              "2  7327624  omnibus book club edition containing the ladie...        2\n",
              "3  6066819  addie downs and valerie adler were eight when ...        3"
            ]
          },
          "execution_count": 58,
          "metadata": {},
          "output_type": "execute_result"
        }
      ],
      "source": [
        "desc_1[\"description\"] = desc_1[\"description\"].str.lower() \n",
        "desc_1.head(3)"
      ]
    },
    {
      "cell_type": "code",
      "execution_count": null,
      "metadata": {
        "colab": {
          "background_save": true,
          "base_uri": "https://localhost:8080/"
        },
        "id": "PQnnB-I5zbOb",
        "outputId": "3530d763-ed96-4fac-a64b-af82ffa76d12"
      },
      "outputs": [
        {
          "name": "stdout",
          "output_type": "stream",
          "text": [
            "[nltk_data] Downloading package punkt to /root/nltk_data...\n",
            "[nltk_data]   Unzipping tokenizers/punkt.zip.\n",
            "0\n",
            "100000\n",
            "200000\n",
            "300000\n",
            "400000\n",
            "500000\n",
            "600000\n",
            "700000\n",
            "800000\n",
            "900000\n",
            "1000000\n",
            "1100000\n",
            "1200000\n"
          ]
        }
      ],
      "source": [
        "descriptions = desc_1['description']\n",
        "desc = []\n",
        "wordnet_lemmatizer = WordNetLemmatizer()\n",
        "#snowball_stemmer = SnowballStemmer('english')\n",
        "import re \n",
        "from nltk import word_tokenize\n",
        "nltk.download('punkt')\n",
        "\n",
        "for i,text in enumerate(descriptions):\n",
        "  if i % 100000 == 0:\n",
        "    print(i)\n",
        "  tokens = [word for sent in nltk.sent_tokenize(text) for word in nltk.word_tokenize(sent)]\n",
        "  clean_tokens = [t for t in tokens if re.match(r'[^\\W\\d]*$', t)]\n",
        "  #remov_stop = [word for word in clean_tokens if word not in stopword]\n",
        "  lem_word = [wordnet_lemmatizer.lemmatize(word) for word in clean_tokens]\n",
        "  #stem_word = [snowball_stemmer.stem(word) for word in lem_word]\n",
        "  desc.append(' '.join(lem_word))\n"
      ]
    },
    {
      "cell_type": "code",
      "execution_count": null,
      "metadata": {
        "id": "krl-mH400gaF"
      },
      "outputs": [],
      "source": [
        "max_words = 200\n",
        "def trim_string(x):\n",
        "    x = x.split(maxsplit=max_words)\n",
        "    x = ' '.join(x[:max_words])\n",
        "    return x"
      ]
    },
    {
      "cell_type": "markdown",
      "metadata": {
        "id": "wbDljisw1yko"
      },
      "source": [
        "## Create the LSTM Model\n"
      ]
    },
    {
      "cell_type": "markdown",
      "metadata": {
        "id": "xegBxYZD2NNA"
      },
      "source": [
        "Note that the following is commented out.  The model was trained on a local IDE rather than Google Colab due to runtime restrictions.  As such, the model was saved on an IDE and imported to the project Google Drive.  The code below generates the model that we load in below. "
      ]
    },
    {
      "cell_type": "code",
      "execution_count": null,
      "metadata": {
        "id": "IgxoPVMc1x-3"
      },
      "outputs": [],
      "source": [
        "'''\n",
        "# The maximum number of words to be used. (most frequent)\n",
        "word_max = 50000\n",
        "seq_max = 300\n",
        "EMBEDDING_DIM = 100\n",
        "tokenizer = Tokenizer(num_words=word_max, filters='!\"#$%&()*+,-./:;<=>?@[\\]^_`{|}~', lower=True)\n",
        "tokenizer.fit_on_texts(df_clean['trim_desc'].values)\n",
        "word_index = tokenizer.word_index\n",
        "print('Found %s unique tokens.' % len(word_index))\n",
        "\n",
        "X = tokenizer.texts_to_sequences(df_clean['trim_desc'].values)\n",
        "X = pad_sequences(X, maxlen=seq_max)\n",
        "print('Shape of data tensor:', X.shape)\n",
        "Y = pd.get_dummies(df_clean['genre_cleaned']).values\n",
        "print('Shape of label tensor:', Y.shape)\n",
        "X_train, X_test, y_train, y_test = train_test_split(X,Y, test_size = 0.20, random_state = 42)\n",
        "print(X_train.shape,y_train.shape)\n",
        "print(X_test.shape,y_test.shape)\n",
        "\n",
        "model = Sequential()\n",
        "model.add(Embedding(word_max, EMBEDDING_DIM, input_length=X.shape[1]))\n",
        "model.add(SpatialDropout1D(0.2))\n",
        "model.add(LSTM(100, dropout=0.2, recurrent_dropout=0.2))\n",
        "model.add(Dense(10, activation='softmax'))\n",
        "model.compile(loss='categorical_crossentropy', optimizer='adam', metrics=['accuracy'])\n",
        "my_callbacks = [\n",
        "    ES(patience=1),\n",
        "    MC(filepath='new_model/LSTM_mini_model.{epoch:02d}-{val_loss:.2f}.h5'),\n",
        "    TB(log_dir='./logs'),\n",
        "]\n",
        "epochs = 25\n",
        "batch_size = 64\n",
        "\n",
        "history = model.fit(X_train, y_train, epochs=epochs, batch_size=batch_size,validation_split=0.2,callbacks=my_callbacks)\n",
        "model.save('LSTM_mini_model.h5')\n",
        "'''"
      ]
    },
    {
      "cell_type": "code",
      "execution_count": null,
      "metadata": {
        "colab": {
          "base_uri": "https://localhost:8080/"
        },
        "id": "aIsMSc-o2iak",
        "outputId": "6ae3f637-84d2-4884-8bda-9a60e78f5f03"
      },
      "outputs": [
        {
          "output_type": "stream",
          "name": "stdout",
          "text": [
            "WARNING:tensorflow:Layer lstm will not use cuDNN kernels since it doesn't meet the criteria. It will use a generic GPU kernel as fallback when running on GPU.\n",
            "Model: \"sequential\"\n",
            "_________________________________________________________________\n",
            " Layer (type)                Output Shape              Param #   \n",
            "=================================================================\n",
            " embedding (Embedding)       (None, 200, 100)          4000000   \n",
            "                                                                 \n",
            " spatial_dropout1d (SpatialD  (None, 200, 100)         0         \n",
            " ropout1D)                                                       \n",
            "                                                                 \n",
            " lstm (LSTM)                 (None, 100)               80400     \n",
            "                                                                 \n",
            " dense (Dense)               (None, 10)                1010      \n",
            "                                                                 \n",
            "=================================================================\n",
            "Total params: 4,081,410\n",
            "Trainable params: 4,081,410\n",
            "Non-trainable params: 0\n",
            "_________________________________________________________________\n"
          ]
        }
      ],
      "source": [
        "# Load in the model trained externally\n",
        "lstm_model = tf.keras.models.load_model('gdrive/MyDrive/LSTM_model.h5') \n",
        "lstm_model.summary()"
      ]
    },
    {
      "cell_type": "markdown",
      "metadata": {
        "id": "NMft0fl57Wtx"
      },
      "source": [
        "Now that the model is loaded, lets test the model on our dataset.  We reset our data, filter for descriptions, and trim our descriptions.  We then only take our genre and trimmed descriptions. We preprocess the data we will test to be in a usable form for our model.  We filter and tokenize, finding 791,029 unique tokens. We then predict on our test data, and analyze our results shown below."
      ]
    },
    {
      "cell_type": "code",
      "execution_count": null,
      "metadata": {
        "colab": {
          "base_uri": "https://localhost:8080/"
        },
        "id": "g7fuC_9B7hN2",
        "outputId": "80cd88f4-6db0-4d97-e8ad-8ff8b86ba305"
      },
      "outputs": [
        {
          "output_type": "stream",
          "name": "stderr",
          "text": [
            "/usr/local/lib/python3.7/dist-packages/ipykernel_launcher.py:16: SettingWithCopyWarning: \n",
            "A value is trying to be set on a copy of a slice from a DataFrame.\n",
            "Try using .loc[row_indexer,col_indexer] = value instead\n",
            "\n",
            "See the caveats in the documentation: https://pandas.pydata.org/pandas-docs/stable/user_guide/indexing.html#returning-a-view-versus-a-copy\n",
            "  app.launch_new_instance()\n",
            "/usr/local/lib/python3.7/dist-packages/ipykernel_launcher.py:17: SettingWithCopyWarning: \n",
            "A value is trying to be set on a copy of a slice from a DataFrame.\n",
            "Try using .loc[row_indexer,col_indexer] = value instead\n",
            "\n",
            "See the caveats in the documentation: https://pandas.pydata.org/pandas-docs/stable/user_guide/indexing.html#returning-a-view-versus-a-copy\n",
            "/usr/local/lib/python3.7/dist-packages/ipykernel_launcher.py:18: SettingWithCopyWarning: \n",
            "A value is trying to be set on a copy of a slice from a DataFrame.\n",
            "Try using .loc[row_indexer,col_indexer] = value instead\n",
            "\n",
            "See the caveats in the documentation: https://pandas.pydata.org/pandas-docs/stable/user_guide/indexing.html#returning-a-view-versus-a-copy\n",
            "/usr/local/lib/python3.7/dist-packages/ipykernel_launcher.py:19: SettingWithCopyWarning: \n",
            "A value is trying to be set on a copy of a slice from a DataFrame.\n",
            "Try using .loc[row_indexer,col_indexer] = value instead\n",
            "\n",
            "See the caveats in the documentation: https://pandas.pydata.org/pandas-docs/stable/user_guide/indexing.html#returning-a-view-versus-a-copy\n",
            "/usr/local/lib/python3.7/dist-packages/ipykernel_launcher.py:4: SettingWithCopyWarning: \n",
            "A value is trying to be set on a copy of a slice from a DataFrame.\n",
            "Try using .loc[row_indexer,col_indexer] = value instead\n",
            "\n",
            "See the caveats in the documentation: https://pandas.pydata.org/pandas-docs/stable/user_guide/indexing.html#returning-a-view-versus-a-copy\n",
            "  after removing the cwd from sys.path.\n"
          ]
        }
      ],
      "source": [
        "df_all = reset_data(all_data)\n",
        "# Trim and Clip\n",
        "#df_all.drop(df_all[df_all.description.str.len() < 10].index, inplace=True)\n",
        "df_all['trim_desc'] = df_all['description'].apply(trim_string)\n",
        "df_clean = df_all[['trim_desc', 'genre_cleaned']]"
      ]
    },
    {
      "cell_type": "code",
      "execution_count": null,
      "metadata": {
        "colab": {
          "base_uri": "https://localhost:8080/"
        },
        "id": "Y-At5TYk7aAy",
        "outputId": "3b6bfc4b-4d33-4ae1-bc9d-7ca25b0310d0"
      },
      "outputs": [
        {
          "output_type": "stream",
          "name": "stdout",
          "text": [
            "We found  791029  unique tokens.\n"
          ]
        }
      ],
      "source": [
        "word_max = 40000\n",
        "seq_max = 300\n",
        "filter = '!\"#$%&()*+,-./:;<=>?@[\\]^_`{|}~'\n",
        "tokenizer = Tokenizer(num_words=word_max, filters=filter, lower=True)\n",
        "tokenizer.fit_on_texts(df_clean['trim_desc'].values)\n",
        "word_index = tokenizer.word_index\n",
        "print('We found ', len(word_index), ' unique tokens.')"
      ]
    },
    {
      "cell_type": "code",
      "execution_count": null,
      "metadata": {
        "id": "79HlNIc07cXz"
      },
      "outputs": [],
      "source": [
        "X = tokenizer.texts_to_sequences(df_clean['trim_desc'].values)\n",
        "X = pad_sequences(X, maxlen=seq_max)\n",
        "Y = pd.get_dummies(df_clean['genre_cleaned']).values\n",
        "X_train, X_test, y_train, y_test = train_test_split(X,Y, test_size = 0.20, random_state = 42)\n"
      ]
    },
    {
      "cell_type": "code",
      "execution_count": null,
      "metadata": {
        "id": "nkFVWSg13AmE"
      },
      "outputs": [],
      "source": [
        "y_pred = lstm_model.predict(X_test)"
      ]
    },
    {
      "cell_type": "code",
      "execution_count": null,
      "metadata": {
        "colab": {
          "base_uri": "https://localhost:8080/"
        },
        "id": "Ekfdk8ZT-Q3l",
        "outputId": "3280ac68-18be-4793-c0c8-615b423d5759"
      },
      "outputs": [
        {
          "output_type": "stream",
          "name": "stdout",
          "text": [
            "LSTM Performance F1:  0.8196874138685777\n"
          ]
        }
      ],
      "source": [
        "y_classes = y_pred.argmax(axis=-1)\n",
        "y_test_pred = pd.DataFrame(y_test).idxmax(1)\n",
        "\n",
        "score = f1_score(y_test_pred, y_classes, average='micro')\n",
        "print('LSTM Performance F1: ', score)"
      ]
    },
    {
      "cell_type": "code",
      "source": [
        "from sklearn.metrics import classification_report\n",
        "print(classification_report(y_test_pred, y_classes, target_names=genre_dict_1))"
      ],
      "metadata": {
        "colab": {
          "base_uri": "https://localhost:8080/"
        },
        "id": "eEgZx46d0FGd",
        "outputId": "20aaea32-dc5c-4944-c5ba-508aac96e8b9"
      },
      "execution_count": null,
      "outputs": [
        {
          "output_type": "stream",
          "name": "stdout",
          "text": [
            "                                        precision    recall  f1-score   support\n",
            "\n",
            "                              children       0.84      0.83      0.84     17895\n",
            "                       comics, graphic       0.82      0.78      0.80      9715\n",
            "                   fantasy, paranormal       0.81      0.85      0.83     39059\n",
            "                               fiction       0.58      0.33      0.42      8445\n",
            "history, historical fiction, biography       0.76      0.79      0.77     36335\n",
            "              mystery, thriller, crime       0.84      0.87      0.85     30952\n",
            "                           non-fiction       0.84      0.86      0.85     44616\n",
            "                                poetry       0.87      0.80      0.83      5479\n",
            "                               romance       0.86      0.88      0.87     44297\n",
            "                           young-adult       0.79      0.64      0.71      9923\n",
            "\n",
            "                              accuracy                           0.82    246716\n",
            "                             macro avg       0.80      0.76      0.78    246716\n",
            "                          weighted avg       0.82      0.82      0.82    246716\n",
            "\n"
          ]
        }
      ]
    },
    {
      "cell_type": "markdown",
      "source": [
        "We can see that our model performs very well in some categories and very badly in others.  For instance, our model's highest f1-score is for the romance category.  This actually makes sense since the descriptions for romance books probably contain very specific words.  Alternatively, since fiction is such a vague, all encompassing genre, it also makes sense that the model predicts the most inconsistently on it.  "
      ],
      "metadata": {
        "id": "mvqNutzG3wX8"
      }
    },
    {
      "cell_type": "markdown",
      "metadata": {
        "id": "zZkpvaJd5NBk"
      },
      "source": [
        "## Looking into the LSTM predictions"
      ]
    },
    {
      "cell_type": "code",
      "execution_count": null,
      "metadata": {
        "id": "yAI_m3HS-OqL"
      },
      "outputs": [],
      "source": [
        "# Get multilabel confusion matrix\n",
        "y_pred_test = np.array(y_test_pred)\n",
        "mccm = multilabel_confusion_matrix(y_pred_test, y_classes)"
      ]
    },
    {
      "cell_type": "code",
      "execution_count": null,
      "metadata": {
        "id": "J7QZCW5O3pq-"
      },
      "outputs": [],
      "source": [
        "def plot_conf_mat(axis_index, mapping, label_index):\n",
        "  test = sns.heatmap(mapping, annot=True, fmt='g', cmap=\"YlGnBu\", ax=axis_index, cbar=True)\n",
        "  test.set_xlabel('Predicted labels')\n",
        "  test.set_ylabel('True labels') \n",
        "  test.set_title(genre_dict_1[label_index])"
      ]
    },
    {
      "cell_type": "code",
      "execution_count": null,
      "metadata": {
        "colab": {
          "base_uri": "https://localhost:8080/",
          "height": 460
        },
        "id": "gm-A15_B5nwQ",
        "outputId": "237eb241-5cf2-4357-fc06-1fee19498ead"
      },
      "outputs": [
        {
          "data": {
            "image/png": "[encoded data removed]",
            "text/plain": [
              "<Figure size 2160x720 with 20 Axes>"
            ]
          },
          "metadata": {},
          "output_type": "display_data"
        }
      ],
      "source": [
        "#----------------- PLOT SEVERAL OF THE NUMBERS -----------------#\n",
        "\n",
        "fig, axs = plt.subplots(2, 5, figsize=(30,10))\n",
        "plot_conf_mat(axs[0,0], mccm[0], 0)\n",
        "plot_conf_mat(axs[0,1], mccm[1], 1)\n",
        "plot_conf_mat(axs[0,2], mccm[2], 2)\n",
        "plot_conf_mat(axs[0,3], mccm[3], 3)\n",
        "plot_conf_mat(axs[0,4], mccm[4], 4)\n",
        "plot_conf_mat(axs[1,0], mccm[5], 5)\n",
        "plot_conf_mat(axs[1,1], mccm[6], 6)\n",
        "plot_conf_mat(axs[1,2], mccm[7], 7)\n",
        "plot_conf_mat(axs[1,3], mccm[8], 8)\n",
        "plot_conf_mat(axs[1,4], mccm[9], 9)"
      ]
    },
    {
      "cell_type": "markdown",
      "metadata": {
        "id": "HewoUpaNArPi"
      },
      "source": [
        "We can clearly see by the confusion matrices, that the model performs differently on different genres.  Will this performance change once the ensemble method is implemented? Lets get the data in a form that we can use for the ensemble method.  We will train on all 1.2 million records that have "
      ]
    },
    {
      "cell_type": "code",
      "execution_count": null,
      "metadata": {
        "id": "FB5MSLXF8cnO"
      },
      "outputs": [],
      "source": [
        "df_all = reset_data(all_data)\n",
        "# Trim and Clip\n",
        "#df_all.drop(df_all[df_all.description.str.len() < 10].index, inplace=True)\n",
        "df_all['trim_desc'] = df_all['description'].apply(trim_string)\n",
        "df_clean = df_all[['book_id', 'trim_desc', 'genre_cleaned']]"
      ]
    },
    {
      "cell_type": "code",
      "execution_count": null,
      "metadata": {
        "id": "oc7953wJ97Ck"
      },
      "outputs": [],
      "source": [
        "y_pred_all = lstm_model.predict(X)"
      ]
    },
    {
      "cell_type": "code",
      "execution_count": null,
      "metadata": {
        "colab": {
          "base_uri": "https://localhost:8080/"
        },
        "id": "ENET_R4VHloA",
        "outputId": "ed0871c8-c0d2-4930-88c5-9b2af9668fb0"
      },
      "outputs": [
        {
          "data": {
            "text/plain": [
              "array([4, 2, 8, ..., 0, 4, 2])"
            ]
          },
          "execution_count": 44,
          "metadata": {},
          "output_type": "execute_result"
        }
      ],
      "source": [
        "y_classes_all = y_pred_all.argmax(axis=-1)\n",
        "y_classes_all"
      ]
    },
    {
      "cell_type": "code",
      "execution_count": null,
      "metadata": {
        "id": "A_5-cp_9Fnam"
      },
      "outputs": [],
      "source": [
        "df_final = pd.DataFrame(list(zip(df_all['book_id'], y_classes_all, df_all['genre_2'], df_all['genre_cleaned'])),\n",
        "               columns =['bid', 'lstm_predictions', 'true_label', 'true_genre'])\n"
      ]
    },
    {
      "cell_type": "code",
      "execution_count": null,
      "metadata": {
        "colab": {
          "base_uri": "https://localhost:8080/",
          "height": 676
        },
        "id": "7YH1hQEhGoYd",
        "outputId": "cdfabea3-fd25-45f1-aedc-afa0f77bc0db"
      },
      "outputs": [
        {
          "data": {
            "text/html": [
              "\n",
              "  <div id=\"df-8e1d46bb-2925-4d39-8c81-3357f72b9428\">\n",
              "    <div class=\"colab-df-container\">\n",
              "      <div>\n",
              "<style scoped>\n",
              "    .dataframe tbody tr th:only-of-type {\n",
              "        vertical-align: middle;\n",
              "    }\n",
              "\n",
              "    .dataframe tbody tr th {\n",
              "        vertical-align: top;\n",
              "    }\n",
              "\n",
              "    .dataframe thead th {\n",
              "        text-align: right;\n",
              "    }\n",
              "</style>\n",
              "<table border=\"1\" class=\"dataframe\">\n",
              "  <thead>\n",
              "    <tr style=\"text-align: right;\">\n",
              "      <th></th>\n",
              "      <th>bid</th>\n",
              "      <th>lstm_predictions</th>\n",
              "      <th>true_label</th>\n",
              "      <th>true_genre</th>\n",
              "    </tr>\n",
              "  </thead>\n",
              "  <tbody>\n",
              "    <tr>\n",
              "      <th>0</th>\n",
              "      <td>1333909</td>\n",
              "      <td>4</td>\n",
              "      <td>4</td>\n",
              "      <td>history, historical fiction, biography</td>\n",
              "    </tr>\n",
              "    <tr>\n",
              "      <th>1</th>\n",
              "      <td>7327624</td>\n",
              "      <td>2</td>\n",
              "      <td>2</td>\n",
              "      <td>fantasy, paranormal</td>\n",
              "    </tr>\n",
              "    <tr>\n",
              "      <th>2</th>\n",
              "      <td>6066819</td>\n",
              "      <td>8</td>\n",
              "      <td>8</td>\n",
              "      <td>romance</td>\n",
              "    </tr>\n",
              "    <tr>\n",
              "      <th>3</th>\n",
              "      <td>287141</td>\n",
              "      <td>4</td>\n",
              "      <td>4</td>\n",
              "      <td>history, historical fiction, biography</td>\n",
              "    </tr>\n",
              "    <tr>\n",
              "      <th>4</th>\n",
              "      <td>6066812</td>\n",
              "      <td>2</td>\n",
              "      <td>2</td>\n",
              "      <td>fantasy, paranormal</td>\n",
              "    </tr>\n",
              "    <tr>\n",
              "      <th>5</th>\n",
              "      <td>34883016</td>\n",
              "      <td>2</td>\n",
              "      <td>8</td>\n",
              "      <td>romance</td>\n",
              "    </tr>\n",
              "    <tr>\n",
              "      <th>6</th>\n",
              "      <td>287149</td>\n",
              "      <td>6</td>\n",
              "      <td>6</td>\n",
              "      <td>non-fiction</td>\n",
              "    </tr>\n",
              "    <tr>\n",
              "      <th>7</th>\n",
              "      <td>6066814</td>\n",
              "      <td>4</td>\n",
              "      <td>4</td>\n",
              "      <td>history, historical fiction, biography</td>\n",
              "    </tr>\n",
              "    <tr>\n",
              "      <th>8</th>\n",
              "      <td>89371</td>\n",
              "      <td>6</td>\n",
              "      <td>6</td>\n",
              "      <td>non-fiction</td>\n",
              "    </tr>\n",
              "    <tr>\n",
              "      <th>9</th>\n",
              "      <td>89375</td>\n",
              "      <td>6</td>\n",
              "      <td>6</td>\n",
              "      <td>non-fiction</td>\n",
              "    </tr>\n",
              "    <tr>\n",
              "      <th>10</th>\n",
              "      <td>89376</td>\n",
              "      <td>6</td>\n",
              "      <td>6</td>\n",
              "      <td>non-fiction</td>\n",
              "    </tr>\n",
              "    <tr>\n",
              "      <th>11</th>\n",
              "      <td>89377</td>\n",
              "      <td>4</td>\n",
              "      <td>4</td>\n",
              "      <td>history, historical fiction, biography</td>\n",
              "    </tr>\n",
              "    <tr>\n",
              "      <th>12</th>\n",
              "      <td>89378</td>\n",
              "      <td>0</td>\n",
              "      <td>0</td>\n",
              "      <td>children</td>\n",
              "    </tr>\n",
              "    <tr>\n",
              "      <th>13</th>\n",
              "      <td>7203847</td>\n",
              "      <td>5</td>\n",
              "      <td>5</td>\n",
              "      <td>mystery, thriller, crime</td>\n",
              "    </tr>\n",
              "    <tr>\n",
              "      <th>14</th>\n",
              "      <td>12182387</td>\n",
              "      <td>8</td>\n",
              "      <td>2</td>\n",
              "      <td>fantasy, paranormal</td>\n",
              "    </tr>\n",
              "    <tr>\n",
              "      <th>15</th>\n",
              "      <td>16037549</td>\n",
              "      <td>2</td>\n",
              "      <td>7</td>\n",
              "      <td>poetry</td>\n",
              "    </tr>\n",
              "    <tr>\n",
              "      <th>16</th>\n",
              "      <td>12135833</td>\n",
              "      <td>8</td>\n",
              "      <td>8</td>\n",
              "      <td>romance</td>\n",
              "    </tr>\n",
              "    <tr>\n",
              "      <th>17</th>\n",
              "      <td>18628482</td>\n",
              "      <td>6</td>\n",
              "      <td>9</td>\n",
              "      <td>young-adult</td>\n",
              "    </tr>\n",
              "    <tr>\n",
              "      <th>18</th>\n",
              "      <td>29074697</td>\n",
              "      <td>5</td>\n",
              "      <td>5</td>\n",
              "      <td>mystery, thriller, crime</td>\n",
              "    </tr>\n",
              "    <tr>\n",
              "      <th>19</th>\n",
              "      <td>1902202</td>\n",
              "      <td>5</td>\n",
              "      <td>5</td>\n",
              "      <td>mystery, thriller, crime</td>\n",
              "    </tr>\n",
              "  </tbody>\n",
              "</table>\n",
              "</div>\n",
              "      <button class=\"colab-df-convert\" onclick=\"convertToInteractive('df-8e1d46bb-2925-4d39-8c81-3357f72b9428')\"\n",
              "              title=\"Convert this dataframe to an interactive table.\"\n",
              "              style=\"display:none;\">\n",
              "        \n",
              "  <svg xmlns=\"http://www.w3.org/2000/svg\" height=\"24px\"viewBox=\"0 0 24 24\"\n",
              "       width=\"24px\">\n",
              "    <path d=\"M0 0h24v24H0V0z\" fill=\"none\"/>\n",
              "    <path d=\"M18.56 5.44l.94 2.06.94-2.06 2.06-.94-2.06-.94-.94-2.06-.94 2.06-2.06.94zm-11 1L8.5 8.5l.94-2.06 2.06-.94-2.06-.94L8.5 2.5l-.94 2.06-2.06.94zm10 10l.94 2.06.94-2.06 2.06-.94-2.06-.94-.94-2.06-.94 2.06-2.06.94z\"/><path d=\"M17.41 7.96l-1.37-1.37c-.4-.4-.92-.59-1.43-.59-.52 0-1.04.2-1.43.59L10.3 9.45l-7.72 7.72c-.78.78-.78 2.05 0 2.83L4 21.41c.39.39.9.59 1.41.59.51 0 1.02-.2 1.41-.59l7.78-7.78 2.81-2.81c.8-.78.8-2.07 0-2.86zM5.41 20L4 18.59l7.72-7.72 1.47 1.35L5.41 20z\"/>\n",
              "  </svg>\n",
              "      </button>\n",
              "      \n",
              "  <style>\n",
              "    .colab-df-container {\n",
              "      display:flex;\n",
              "      flex-wrap:wrap;\n",
              "      gap: 12px;\n",
              "    }\n",
              "\n",
              "    .colab-df-convert {\n",
              "      background-color: #E8F0FE;\n",
              "      border: none;\n",
              "      border-radius: 50%;\n",
              "      cursor: pointer;\n",
              "      display: none;\n",
              "      fill: #1967D2;\n",
              "      height: 32px;\n",
              "      padding: 0 0 0 0;\n",
              "      width: 32px;\n",
              "    }\n",
              "\n",
              "    .colab-df-convert:hover {\n",
              "      background-color: #E2EBFA;\n",
              "      box-shadow: 0px 1px 2px rgba(60, 64, 67, 0.3), 0px 1px 3px 1px rgba(60, 64, 67, 0.15);\n",
              "      fill: #174EA6;\n",
              "    }\n",
              "\n",
              "    [theme=dark] .colab-df-convert {\n",
              "      background-color: #3B4455;\n",
              "      fill: #D2E3FC;\n",
              "    }\n",
              "\n",
              "    [theme=dark] .colab-df-convert:hover {\n",
              "      background-color: #434B5C;\n",
              "      box-shadow: 0px 1px 3px 1px rgba(0, 0, 0, 0.15);\n",
              "      filter: drop-shadow(0px 1px 2px rgba(0, 0, 0, 0.3));\n",
              "      fill: #FFFFFF;\n",
              "    }\n",
              "  </style>\n",
              "\n",
              "      <script>\n",
              "        const buttonEl =\n",
              "          document.querySelector('#df-8e1d46bb-2925-4d39-8c81-3357f72b9428 button.colab-df-convert');\n",
              "        buttonEl.style.display =\n",
              "          google.colab.kernel.accessAllowed ? 'block' : 'none';\n",
              "\n",
              "        async function convertToInteractive(key) {\n",
              "          const element = document.querySelector('#df-8e1d46bb-2925-4d39-8c81-3357f72b9428');\n",
              "          const dataTable =\n",
              "            await google.colab.kernel.invokeFunction('convertToInteractive',\n",
              "                                                     [key], {});\n",
              "          if (!dataTable) return;\n",
              "\n",
              "          const docLinkHtml = 'Like what you see? Visit the ' +\n",
              "            '<a target=\"_blank\" href=https://colab.research.google.com/notebooks/data_table.ipynb>data table notebook</a>'\n",
              "            + ' to learn more about interactive tables.';\n",
              "          element.innerHTML = '';\n",
              "          dataTable['output_type'] = 'display_data';\n",
              "          await google.colab.output.renderOutput(dataTable, element);\n",
              "          const docLink = document.createElement('div');\n",
              "          docLink.innerHTML = docLinkHtml;\n",
              "          element.appendChild(docLink);\n",
              "        }\n",
              "      </script>\n",
              "    </div>\n",
              "  </div>\n",
              "  "
            ],
            "text/plain": [
              "         bid  lstm_predictions  true_label  \\\n",
              "0    1333909                 4           4   \n",
              "1    7327624                 2           2   \n",
              "2    6066819                 8           8   \n",
              "3     287141                 4           4   \n",
              "4    6066812                 2           2   \n",
              "5   34883016                 2           8   \n",
              "6     287149                 6           6   \n",
              "7    6066814                 4           4   \n",
              "8      89371                 6           6   \n",
              "9      89375                 6           6   \n",
              "10     89376                 6           6   \n",
              "11     89377                 4           4   \n",
              "12     89378                 0           0   \n",
              "13   7203847                 5           5   \n",
              "14  12182387                 8           2   \n",
              "15  16037549                 2           7   \n",
              "16  12135833                 8           8   \n",
              "17  18628482                 6           9   \n",
              "18  29074697                 5           5   \n",
              "19   1902202                 5           5   \n",
              "\n",
              "                                true_genre  \n",
              "0   history, historical fiction, biography  \n",
              "1                      fantasy, paranormal  \n",
              "2                                  romance  \n",
              "3   history, historical fiction, biography  \n",
              "4                      fantasy, paranormal  \n",
              "5                                  romance  \n",
              "6                              non-fiction  \n",
              "7   history, historical fiction, biography  \n",
              "8                              non-fiction  \n",
              "9                              non-fiction  \n",
              "10                             non-fiction  \n",
              "11  history, historical fiction, biography  \n",
              "12                                children  \n",
              "13                mystery, thriller, crime  \n",
              "14                     fantasy, paranormal  \n",
              "15                                  poetry  \n",
              "16                                 romance  \n",
              "17                             young-adult  \n",
              "18                mystery, thriller, crime  \n",
              "19                mystery, thriller, crime  "
            ]
          },
          "execution_count": 51,
          "metadata": {},
          "output_type": "execute_result"
        }
      ],
      "source": [
        "df_final.head(20)"
      ]
    }
  ],
  "metadata": {
    "colab": {
      "collapsed_sections": [],
      "name": "Description_Model.ipynb",
      "provenance": []
    },
    "kernelspec": {
      "display_name": "Python 3",
      "name": "python3"
    },
    "language_info": {
      "name": "python"
    },
    "accelerator": "GPU"
  },
  "nbformat": 4,
  "nbformat_minor": 0
}