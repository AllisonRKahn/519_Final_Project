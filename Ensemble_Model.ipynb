{
  "cells": [
    {
      "cell_type": "markdown",
      "source": [
        "# Part One: True Ensemble Method\n",
        "\n",
        "The first section of this notebook looks at true ensemble methods where the base models are trained along side the ensemble model. Because of the nature of this process, we are only looking at the models regarding title and one description model due to the nature of training the neural net and LSTM."
      ],
      "metadata": {
        "id": "oTWHbxUP5U-5"
      }
    },
    {
      "cell_type": "code",
      "execution_count": 2,
      "metadata": {
        "colab": {
          "base_uri": "https://localhost:8080/"
        },
        "id": "9G0r9F2A3WND",
        "outputId": "856b9294-c83b-455d-9d41-11ee22a2b1e9"
      },
      "outputs": [
        {
          "output_type": "stream",
          "name": "stdout",
          "text": [
            "Mounted at /content/gdrive\n"
          ]
        }
      ],
      "source": [
        "import csv\n",
        "from google.colab import drive\n",
        "import pandas as pd\n",
        "import numpy as np\n",
        "import matplotlib.pyplot as plt\n",
        "\n",
        "\n",
        "drive.mount('/content/gdrive')"
      ]
    },
    {
      "cell_type": "code",
      "source": [
        "#----------------- EVERY IMPORT STATEMENT WE COULD POSSIBLY WANT -----------------#\n",
        "\n",
        "import six\n",
        "import sys\n",
        "\n",
        "import sklearn.externals as extjoblib\n",
        "import joblib\n",
        "\n",
        "sys.modules['sklearn.externals.six'] = six\n",
        "sys.modules['sklearn.externals.joblib'] = joblib\n",
        "\n",
        "from mlxtend.classifier import EnsembleVoteClassifier\n",
        "from mlxtend.feature_selection import ColumnSelector\n",
        "from sklearn.pipeline import Pipeline\n",
        "from sklearn.linear_model import LogisticRegression\n",
        "\n",
        "import numpy as np\n",
        "import pandas as pd\n",
        "import seaborn as sns\n",
        "import matplotlib.pyplot as plt\n",
        "from google.colab import drive\n",
        "import gzip\n",
        "import pickle\n",
        "import nltk\n",
        "import re\n",
        "import tensorflow as tf\n",
        "\n",
        "from collections import Counter\n",
        "\n",
        "from sklearn.preprocessing import LabelEncoder\n",
        "from sklearn.feature_extraction.text import CountVectorizer\n",
        "from sklearn.naive_bayes import MultinomialNB\n",
        "from sklearn.metrics import f1_score\n",
        "from sklearn.model_selection import train_test_split\n",
        "from sklearn.metrics import multilabel_confusion_matrix\n",
        "\n",
        "from nltk.corpus import stopwords\n",
        "from nltk.stem import WordNetLemmatizer\n",
        "from nltk.stem import SnowballStemmer\n",
        "from nltk import word_tokenize\n",
        "nltk.download('stopwords')\n",
        "nltk.download('wordnet')\n",
        "\n",
        "from keras.preprocessing.text import Tokenizer\n",
        "from keras.preprocessing.sequence import pad_sequences\n",
        "from keras.models import Sequential\n",
        "from keras.layers import Dense, Embedding, LSTM, SpatialDropout1D\n",
        "from sklearn.model_selection import train_test_split\n",
        "from keras.utils.np_utils import to_categorical\n",
        "from keras.callbacks import EarlyStopping as ES\n",
        "from keras.callbacks import ModelCheckpoint as MC\n",
        "from keras.callbacks import TensorBoard as TB\n",
        "from keras.layers import Dropout\n",
        "\n",
        "from sklearn.feature_extraction.text import TfidfTransformer\n",
        "from sklearn.feature_extraction.text import TfidfVectorizer\n",
        "from sklearn import metrics\n",
        "\n",
        "from keras.preprocessing.text import Tokenizer\n",
        "\n"
      ],
      "metadata": {
        "id": "cV3hbxTo8A5t",
        "colab": {
          "base_uri": "https://localhost:8080/"
        },
        "outputId": "eebf1723-a7e2-49c7-b0f3-742e24c57fd7"
      },
      "execution_count": null,
      "outputs": [
        {
          "output_type": "stream",
          "name": "stdout",
          "text": [
            "[nltk_data] Downloading package stopwords to /root/nltk_data...\n",
            "[nltk_data]   Unzipping corpora/stopwords.zip.\n",
            "[nltk_data] Downloading package wordnet to /root/nltk_data...\n",
            "[nltk_data]   Unzipping corpora/wordnet.zip.\n"
          ]
        }
      ]
    },
    {
      "cell_type": "markdown",
      "source": [
        "## Preprocessing\n",
        "First we need to preprocess the data the same way that it was done in the title and description notebooks. \n"
      ],
      "metadata": {
        "id": "SfbI_6If9buN"
      }
    },
    {
      "cell_type": "code",
      "source": [
        "\n",
        "#----------------- SET UP DRIVE AND GET DATA -----------------#\n",
        "\n",
        "# Load from Google Drive\n",
        "drive.mount('/content/gdrive')\n",
        "\n",
        "# Load the full data \n",
        "all_data = pd.read_csv('gdrive/MyDrive/books_clean.csv.gz', compression='gzip')\n"
      ],
      "metadata": {
        "colab": {
          "base_uri": "https://localhost:8080/"
        },
        "id": "E1D6L9iT9puI",
        "outputId": "88d40ef9-6f4e-4a4a-834b-a19a6cfd220a"
      },
      "execution_count": null,
      "outputs": [
        {
          "output_type": "stream",
          "name": "stdout",
          "text": [
            "Mounted at /content/gdrive\n"
          ]
        }
      ]
    },
    {
      "cell_type": "code",
      "source": [
        "title_description_df = all_data.copy()"
      ],
      "metadata": {
        "id": "-TFGYkym-vwg"
      },
      "execution_count": null,
      "outputs": []
    },
    {
      "cell_type": "code",
      "source": [
        "# Filter for only rows that have titles and get rid of commas and things that will mess with titles\n",
        "title_description_df = title_description_df[title_description_df['title'] == title_description_df['title']]\n",
        "title_description_df['title'] = title_description_df['title'].str.replace(',','')\n",
        "title_description_df['title'] = title_description_df['title'].str.replace('\\'','')"
      ],
      "metadata": {
        "id": "rPZuXIPY-Qvn"
      },
      "execution_count": null,
      "outputs": []
    },
    {
      "cell_type": "code",
      "source": [
        "# Filter for only rows that have descriptions and get rid of ones whos description length is too short to be helpful or one of the five generic descriptions\n",
        "title_description_df = title_description_df[title_description_df['description'] == title_description_df['description']]\n",
        "top_10_desc = title_description_df['description'].value_counts()[:10].index.tolist()\n",
        "title_description_df = title_description_df.loc[title_description_df['description'].isin(top_10_desc[:5])==False]\n",
        "title_description_df.drop(title_description_df[title_description_df.description.str.len() < 10].index, inplace=True)\n"
      ],
      "metadata": {
        "id": "PgTEtB76-8iw"
      },
      "execution_count": null,
      "outputs": []
    },
    {
      "cell_type": "markdown",
      "source": [
        "This leaves us with 1,231,824 records on which we can train.  Lets preprocess each column and make a new dataframe.\n",
        "\n",
        "First we will get the titles into a vectorized form that we can train on.\n"
      ],
      "metadata": {
        "id": "PK8yp9Wm_9Z7"
      }
    },
    {
      "cell_type": "markdown",
      "source": [
        "## Ensemble Method Experimentation\n",
        "\n",
        "The following subtitles are in the order \"description\", \"title\"\n",
        "\n"
      ],
      "metadata": {
        "id": "GgNt9aZLTl_M"
      }
    },
    {
      "cell_type": "markdown",
      "source": [
        "### ENSEMBLE 1: CountVectorizer + NB, TDIF + LR"
      ],
      "metadata": {
        "id": "StvOkd-hgAlf"
      }
    },
    {
      "cell_type": "code",
      "source": [
        "title_description_df = title_description_df[['book_id', 'title','description','first']]\n",
        "title_description_df.head(2)"
      ],
      "metadata": {
        "colab": {
          "base_uri": "https://localhost:8080/",
          "height": 112
        },
        "id": "G71vhN0BEXxQ",
        "outputId": "643517eb-ff10-46bc-8b2f-75ef00f5fb5f"
      },
      "execution_count": null,
      "outputs": [
        {
          "output_type": "execute_result",
          "data": {
            "text/plain": [
              "   book_id                                              title  \\\n",
              "1  1333909                                        Good Harbor   \n",
              "2  7327624  The Unschooled Wizard (Sun Wolf and Starhawk #...   \n",
              "\n",
              "                                         description                first  \n",
              "1  Anita Diamant's international bestseller \"The ...              fiction  \n",
              "2  Omnibus book club edition containing the Ladie...  fantasy, paranormal  "
            ],
            "text/html": [
              "\n",
              "  <div id=\"df-c4a47ec1-2b7a-45dc-97d0-0544d4971fc3\">\n",
              "    <div class=\"colab-df-container\">\n",
              "      <div>\n",
              "<style scoped>\n",
              "    .dataframe tbody tr th:only-of-type {\n",
              "        vertical-align: middle;\n",
              "    }\n",
              "\n",
              "    .dataframe tbody tr th {\n",
              "        vertical-align: top;\n",
              "    }\n",
              "\n",
              "    .dataframe thead th {\n",
              "        text-align: right;\n",
              "    }\n",
              "</style>\n",
              "<table border=\"1\" class=\"dataframe\">\n",
              "  <thead>\n",
              "    <tr style=\"text-align: right;\">\n",
              "      <th></th>\n",
              "      <th>book_id</th>\n",
              "      <th>title</th>\n",
              "      <th>description</th>\n",
              "      <th>first</th>\n",
              "    </tr>\n",
              "  </thead>\n",
              "  <tbody>\n",
              "    <tr>\n",
              "      <th>1</th>\n",
              "      <td>1333909</td>\n",
              "      <td>Good Harbor</td>\n",
              "      <td>Anita Diamant's international bestseller \"The ...</td>\n",
              "      <td>fiction</td>\n",
              "    </tr>\n",
              "    <tr>\n",
              "      <th>2</th>\n",
              "      <td>7327624</td>\n",
              "      <td>The Unschooled Wizard (Sun Wolf and Starhawk #...</td>\n",
              "      <td>Omnibus book club edition containing the Ladie...</td>\n",
              "      <td>fantasy, paranormal</td>\n",
              "    </tr>\n",
              "  </tbody>\n",
              "</table>\n",
              "</div>\n",
              "      <button class=\"colab-df-convert\" onclick=\"convertToInteractive('df-c4a47ec1-2b7a-45dc-97d0-0544d4971fc3')\"\n",
              "              title=\"Convert this dataframe to an interactive table.\"\n",
              "              style=\"display:none;\">\n",
              "        \n",
              "  <svg xmlns=\"http://www.w3.org/2000/svg\" height=\"24px\"viewBox=\"0 0 24 24\"\n",
              "       width=\"24px\">\n",
              "    <path d=\"M0 0h24v24H0V0z\" fill=\"none\"/>\n",
              "    <path d=\"M18.56 5.44l.94 2.06.94-2.06 2.06-.94-2.06-.94-.94-2.06-.94 2.06-2.06.94zm-11 1L8.5 8.5l.94-2.06 2.06-.94-2.06-.94L8.5 2.5l-.94 2.06-2.06.94zm10 10l.94 2.06.94-2.06 2.06-.94-2.06-.94-.94-2.06-.94 2.06-2.06.94z\"/><path d=\"M17.41 7.96l-1.37-1.37c-.4-.4-.92-.59-1.43-.59-.52 0-1.04.2-1.43.59L10.3 9.45l-7.72 7.72c-.78.78-.78 2.05 0 2.83L4 21.41c.39.39.9.59 1.41.59.51 0 1.02-.2 1.41-.59l7.78-7.78 2.81-2.81c.8-.78.8-2.07 0-2.86zM5.41 20L4 18.59l7.72-7.72 1.47 1.35L5.41 20z\"/>\n",
              "  </svg>\n",
              "      </button>\n",
              "      \n",
              "  <style>\n",
              "    .colab-df-container {\n",
              "      display:flex;\n",
              "      flex-wrap:wrap;\n",
              "      gap: 12px;\n",
              "    }\n",
              "\n",
              "    .colab-df-convert {\n",
              "      background-color: #E8F0FE;\n",
              "      border: none;\n",
              "      border-radius: 50%;\n",
              "      cursor: pointer;\n",
              "      display: none;\n",
              "      fill: #1967D2;\n",
              "      height: 32px;\n",
              "      padding: 0 0 0 0;\n",
              "      width: 32px;\n",
              "    }\n",
              "\n",
              "    .colab-df-convert:hover {\n",
              "      background-color: #E2EBFA;\n",
              "      box-shadow: 0px 1px 2px rgba(60, 64, 67, 0.3), 0px 1px 3px 1px rgba(60, 64, 67, 0.15);\n",
              "      fill: #174EA6;\n",
              "    }\n",
              "\n",
              "    [theme=dark] .colab-df-convert {\n",
              "      background-color: #3B4455;\n",
              "      fill: #D2E3FC;\n",
              "    }\n",
              "\n",
              "    [theme=dark] .colab-df-convert:hover {\n",
              "      background-color: #434B5C;\n",
              "      box-shadow: 0px 1px 3px 1px rgba(0, 0, 0, 0.15);\n",
              "      filter: drop-shadow(0px 1px 2px rgba(0, 0, 0, 0.3));\n",
              "      fill: #FFFFFF;\n",
              "    }\n",
              "  </style>\n",
              "\n",
              "      <script>\n",
              "        const buttonEl =\n",
              "          document.querySelector('#df-c4a47ec1-2b7a-45dc-97d0-0544d4971fc3 button.colab-df-convert');\n",
              "        buttonEl.style.display =\n",
              "          google.colab.kernel.accessAllowed ? 'block' : 'none';\n",
              "\n",
              "        async function convertToInteractive(key) {\n",
              "          const element = document.querySelector('#df-c4a47ec1-2b7a-45dc-97d0-0544d4971fc3');\n",
              "          const dataTable =\n",
              "            await google.colab.kernel.invokeFunction('convertToInteractive',\n",
              "                                                     [key], {});\n",
              "          if (!dataTable) return;\n",
              "\n",
              "          const docLinkHtml = 'Like what you see? Visit the ' +\n",
              "            '<a target=\"_blank\" href=https://colab.research.google.com/notebooks/data_table.ipynb>data table notebook</a>'\n",
              "            + ' to learn more about interactive tables.';\n",
              "          element.innerHTML = '';\n",
              "          dataTable['output_type'] = 'display_data';\n",
              "          await google.colab.output.renderOutput(dataTable, element);\n",
              "          const docLink = document.createElement('div');\n",
              "          docLink.innerHTML = docLinkHtml;\n",
              "          element.appendChild(docLink);\n",
              "        }\n",
              "      </script>\n",
              "    </div>\n",
              "  </div>\n",
              "  "
            ]
          },
          "metadata": {},
          "execution_count": 6
        }
      ]
    },
    {
      "cell_type": "code",
      "source": [
        "X_train, X_test, y_train, y_test = train_test_split(title_description_df[['title','description']], title_description_df['first'], test_size=0.3, random_state=42)"
      ],
      "metadata": {
        "id": "MiO0P2t9WERk"
      },
      "execution_count": null,
      "outputs": []
    },
    {
      "cell_type": "code",
      "source": [
        "pipeline1 = Pipeline(\n",
        "    [\n",
        "        (\"select\", ColumnSelector(cols=('description'),drop_axis=True)),\n",
        "        (\"vect\", CountVectorizer(analyzer = 'word',ngram_range=(1,1), stop_words='english')),\n",
        "        (\"nb\", MultinomialNB())\n",
        "    ]\n",
        ")\n",
        "pipeline2 = Pipeline(\n",
        "    [\n",
        "        (\"select2\", ColumnSelector(cols=('title'),drop_axis=True)),\n",
        "        (\"vect2\", TfidfVectorizer(stop_words='english', ngram_range=(1,2), min_df=5, sublinear_tf=True)),\n",
        "        (\"log\", LogisticRegression(solver='sag',max_iter=200))\n",
        "    ]\n",
        ")\n",
        "eclf = EnsembleVoteClassifier(clfs=[pipeline1, pipeline2], voting ='soft')\n"
      ],
      "metadata": {
        "id": "kEjfgqeaL4F0"
      },
      "execution_count": null,
      "outputs": []
    },
    {
      "cell_type": "code",
      "source": [
        "eclf.fit(X_train, y_train)"
      ],
      "metadata": {
        "colab": {
          "base_uri": "https://localhost:8080/"
        },
        "id": "NardxeEXSSDb",
        "outputId": "bf08e7ad-bcdc-44ef-a4f2-01e992b538a6"
      },
      "execution_count": null,
      "outputs": [
        {
          "output_type": "execute_result",
          "data": {
            "text/plain": [
              "EnsembleVoteClassifier(clfs=[Pipeline(steps=[('select',\n",
              "                                              ColumnSelector(cols='description',\n",
              "                                                             drop_axis=True)),\n",
              "                                             ('vect',\n",
              "                                              CountVectorizer(stop_words='english')),\n",
              "                                             ('nb', MultinomialNB())]),\n",
              "                             Pipeline(steps=[('select2',\n",
              "                                              ColumnSelector(cols='title',\n",
              "                                                             drop_axis=True)),\n",
              "                                             ('vect2',\n",
              "                                              TfidfVectorizer(min_df=5,\n",
              "                                                              ngram_range=(1,\n",
              "                                                                           2),\n",
              "                                                              stop_words='english',\n",
              "                                                              sublinear_tf=True)),\n",
              "                                             ('log',\n",
              "                                              LogisticRegression(max_iter=200,\n",
              "                                                                 solver='sag'))])],\n",
              "                       voting='soft')"
            ]
          },
          "metadata": {},
          "execution_count": 9
        }
      ]
    },
    {
      "cell_type": "code",
      "source": [
        "train_pred = eclf.predict(X_train)\n",
        "f1_score(y_train, train_pred, average='micro')\n"
      ],
      "metadata": {
        "colab": {
          "base_uri": "https://localhost:8080/"
        },
        "id": "rjcQS-0kV5s1",
        "outputId": "a1452d82-6cf7-4707-efb7-70bbb0fbd47f"
      },
      "execution_count": null,
      "outputs": [
        {
          "output_type": "execute_result",
          "data": {
            "text/plain": [
              "0.7510576659909356"
            ]
          },
          "metadata": {},
          "execution_count": 10
        }
      ]
    },
    {
      "cell_type": "code",
      "source": [
        "test_pred = eclf.predict(X_test)\n",
        "f1_score(y_test, test_pred, average='micro')"
      ],
      "metadata": {
        "colab": {
          "base_uri": "https://localhost:8080/"
        },
        "id": "UL7jX8i9WdJ8",
        "outputId": "41fab1fd-91f5-4115-e5cf-e6daed233b88"
      },
      "execution_count": null,
      "outputs": [
        {
          "output_type": "execute_result",
          "data": {
            "text/plain": [
              "0.7246474071027308"
            ]
          },
          "metadata": {},
          "execution_count": 11
        }
      ]
    },
    {
      "cell_type": "code",
      "source": [
        "print(metrics.classification_report(y_test, test_pred))"
      ],
      "metadata": {
        "colab": {
          "base_uri": "https://localhost:8080/"
        },
        "id": "6LkDeuMCXunN",
        "outputId": "eb59912a-10bc-45cb-c2c0-4dd521d6a6e0"
      },
      "execution_count": null,
      "outputs": [
        {
          "output_type": "stream",
          "name": "stdout",
          "text": [
            "                                        precision    recall  f1-score   support\n",
            "\n",
            "                              children       0.77      0.74      0.76     23995\n",
            "                       comics, graphic       0.86      0.57      0.69     14085\n",
            "                   fantasy, paranormal       0.71      0.75      0.73     43738\n",
            "                               fiction       0.69      0.67      0.68     76246\n",
            "history, historical fiction, biography       0.61      0.62      0.62     33700\n",
            "              mystery, thriller, crime       0.75      0.80      0.78     37329\n",
            "                           non-fiction       0.81      0.76      0.78     65419\n",
            "                                poetry       0.85      0.63      0.72      6970\n",
            "                               romance       0.69      0.88      0.77     56967\n",
            "                           young-adult       0.70      0.28      0.40     11099\n",
            "\n",
            "                              accuracy                           0.72    369548\n",
            "                             macro avg       0.75      0.67      0.69    369548\n",
            "                          weighted avg       0.73      0.72      0.72    369548\n",
            "\n"
          ]
        }
      ]
    },
    {
      "cell_type": "markdown",
      "source": [
        "### ENSEMBLE 2: TDIDF + NB, TDIDF + LR"
      ],
      "metadata": {
        "id": "lLJxObd2gHP0"
      }
    },
    {
      "cell_type": "code",
      "source": [
        "pipeline3 = Pipeline(\n",
        "    [\n",
        "        (\"select\", ColumnSelector(cols=('description'),drop_axis=True)),\n",
        "        (\"vect\", TfidfVectorizer(stop_words='english', ngram_range=(1,2), min_df=5, sublinear_tf=True)),\n",
        "        (\"nb\", MultinomialNB())\n",
        "    ]\n",
        ")\n",
        "pipeline4 = Pipeline(\n",
        "    [\n",
        "        (\"select2\", ColumnSelector(cols=('title'),drop_axis=True)),\n",
        "        (\"vect2\", TfidfVectorizer(stop_words='english', ngram_range=(1,2), min_df=5, sublinear_tf=True)),\n",
        "        (\"log\", LogisticRegression(solver='sag',max_iter=200))\n",
        "    ]\n",
        ")\n",
        "eclf2 = EnsembleVoteClassifier(clfs=[pipeline3, pipeline4])\n"
      ],
      "metadata": {
        "id": "2YSXke43ZUiX"
      },
      "execution_count": null,
      "outputs": []
    },
    {
      "cell_type": "code",
      "source": [
        "eclf2.fit(X_train, y_train)\n"
      ],
      "metadata": {
        "colab": {
          "base_uri": "https://localhost:8080/"
        },
        "id": "DbsLnG3SZgIb",
        "outputId": "d1628479-06d0-4821-c490-f711c468069b"
      },
      "execution_count": null,
      "outputs": [
        {
          "output_type": "execute_result",
          "data": {
            "text/plain": [
              "EnsembleVoteClassifier(clfs=[Pipeline(steps=[('select',\n",
              "                                              ColumnSelector(cols='description',\n",
              "                                                             drop_axis=True)),\n",
              "                                             ('vect', TfidfVectorizer()),\n",
              "                                             ('nb', MultinomialNB())]),\n",
              "                             Pipeline(steps=[('select2',\n",
              "                                              ColumnSelector(cols='title',\n",
              "                                                             drop_axis=True)),\n",
              "                                             ('vect2', TfidfVectorizer()),\n",
              "                                             ('log',\n",
              "                                              LogisticRegression(max_iter=200,\n",
              "                                                                 solver='sag'))])])"
            ]
          },
          "metadata": {},
          "execution_count": 207
        }
      ]
    },
    {
      "cell_type": "code",
      "source": [
        "train_pred2 = eclf2.predict(X_train)\n",
        "f1_score(y_train, train_pred2, average='micro')\n"
      ],
      "metadata": {
        "colab": {
          "base_uri": "https://localhost:8080/"
        },
        "id": "aoaUxtAaZktJ",
        "outputId": "16064007-b514-4dae-9d6b-26e79f9737e5"
      },
      "execution_count": null,
      "outputs": [
        {
          "output_type": "execute_result",
          "data": {
            "text/plain": [
              "0.6375557246171759"
            ]
          },
          "metadata": {},
          "execution_count": 208
        }
      ]
    },
    {
      "cell_type": "code",
      "source": [
        "test_pred2 = eclf2.predict(X_test)\n",
        "f1_score(y_test, test_pred2, average='micro')"
      ],
      "metadata": {
        "colab": {
          "base_uri": "https://localhost:8080/"
        },
        "id": "SR3XXdy_Zl6D",
        "outputId": "9343810a-02d9-476a-e530-87f0ccc862f3"
      },
      "execution_count": null,
      "outputs": [
        {
          "output_type": "execute_result",
          "data": {
            "text/plain": [
              "0.6036482405533246"
            ]
          },
          "metadata": {},
          "execution_count": 209
        }
      ]
    },
    {
      "cell_type": "code",
      "source": [
        "print(metrics.classification_report(y_test, test_pred2))"
      ],
      "metadata": {
        "colab": {
          "base_uri": "https://localhost:8080/"
        },
        "id": "h1lywS6aZnKB",
        "outputId": "793338c4-076f-47eb-9252-01a14efb0e6f"
      },
      "execution_count": null,
      "outputs": [
        {
          "output_type": "stream",
          "name": "stdout",
          "text": [
            "                                        precision    recall  f1-score   support\n",
            "\n",
            "                              children       0.63      0.56      0.60     23995\n",
            "                       comics, graphic       0.80      0.59      0.68     14085\n",
            "                   fantasy, paranormal       0.66      0.72      0.68     43738\n",
            "                               fiction       0.42      0.84      0.56     76246\n",
            "history, historical fiction, biography       0.72      0.34      0.46     33700\n",
            "              mystery, thriller, crime       0.75      0.36      0.49     37329\n",
            "                           non-fiction       0.77      0.69      0.73     65419\n",
            "                                poetry       0.43      0.00      0.01      6970\n",
            "                               romance       0.79      0.64      0.71     56967\n",
            "                           young-adult       1.00      0.00      0.00     11099\n",
            "\n",
            "                              accuracy                           0.60    369548\n",
            "                             macro avg       0.70      0.47      0.49    369548\n",
            "                          weighted avg       0.67      0.60      0.59    369548\n",
            "\n"
          ]
        }
      ]
    },
    {
      "cell_type": "code",
      "source": [
        "filename = 'ensemble_original_73.sav'\n",
        "pickle.dump(eclf, open(filename, 'wb'))"
      ],
      "metadata": {
        "id": "LNZcEeZdBsv5"
      },
      "execution_count": null,
      "outputs": []
    },
    {
      "cell_type": "markdown",
      "source": [
        "### ENEMBLE 3: TFIDF + LR, TFIDF + LR"
      ],
      "metadata": {
        "id": "rZ_IEnPBgOBf"
      }
    },
    {
      "cell_type": "code",
      "source": [
        "pipeline5 = Pipeline(\n",
        "    [\n",
        "        (\"select\", ColumnSelector(cols=('description'),drop_axis=True)),\n",
        "        (\"vect\", TfidfVectorizer(stop_words='english', ngram_range=(1,2), min_df=5, sublinear_tf=True)),\n",
        "        (\"log_d\", LogisticRegression(solver='sag',max_iter=200))\n",
        "    ]\n",
        ")\n",
        "pipeline6 = Pipeline(\n",
        "    [\n",
        "        (\"select2\", ColumnSelector(cols=('title'),drop_axis=True)),\n",
        "        (\"vect2\", TfidfVectorizer(stop_words='english', ngram_range=(1,2), min_df=5, sublinear_tf=True)),\n",
        "        (\"log\", LogisticRegression(solver='sag',max_iter=200))\n",
        "    ]\n",
        ")\n",
        "eclf3 = EnsembleVoteClassifier(clfs=[pipeline5, pipeline6])\n",
        "eclf3.fit(X_train, y_train)\n",
        "train_pred3 = eclf3.predict(X_train)\n",
        "print(\"F1 Train: \", f1_score(y_train, train_pred3, average='micro'))\n",
        "test_pred3 = eclf3.predict(X_test)\n",
        "print(\"F1 Test: \", f1_score(y_test, test_pred3, average='micro'))\n",
        "print(metrics.classification_report(y_test, test_pred3))"
      ],
      "metadata": {
        "id": "8A-Zavq8ZvZt",
        "colab": {
          "base_uri": "https://localhost:8080/"
        },
        "outputId": "ca2995cc-3b5d-4839-e07a-733eeed2e8f6"
      },
      "execution_count": null,
      "outputs": [
        {
          "output_type": "stream",
          "name": "stdout",
          "text": [
            "F1 Train:  0.7791101689018365\n",
            "F1 Test:  0.714702826155195\n",
            "                                        precision    recall  f1-score   support\n",
            "\n",
            "                              children       0.65      0.85      0.74     23995\n",
            "                       comics, graphic       0.82      0.77      0.79     14085\n",
            "                   fantasy, paranormal       0.68      0.86      0.76     43738\n",
            "                               fiction       0.58      0.81      0.68     76246\n",
            "history, historical fiction, biography       0.71      0.58      0.64     33700\n",
            "              mystery, thriller, crime       0.80      0.65      0.72     37329\n",
            "                           non-fiction       0.83      0.73      0.78     65419\n",
            "                                poetry       0.95      0.38      0.54      6970\n",
            "                               romance       0.87      0.65      0.74     56967\n",
            "                           young-adult       0.96      0.18      0.30     11099\n",
            "\n",
            "                              accuracy                           0.71    369548\n",
            "                             macro avg       0.79      0.65      0.67    369548\n",
            "                          weighted avg       0.75      0.71      0.71    369548\n",
            "\n"
          ]
        }
      ]
    },
    {
      "cell_type": "code",
      "source": [
        "filename = 'ensemble_tfidf_lr_71.sav'\n",
        "pickle.dump(eclf3, open(filename, 'wb'))"
      ],
      "metadata": {
        "id": "5GjVojw792c8"
      },
      "execution_count": null,
      "outputs": []
    },
    {
      "cell_type": "markdown",
      "source": [
        "### ENSEMBLE 4: CountVectorizer + NB, TDIDF + LR W/ OVERSAMPLING\n"
      ],
      "metadata": {
        "id": "ynRIViXGdoe4"
      }
    },
    {
      "cell_type": "code",
      "source": [
        "class_size = dict(Counter(title_description_df['first']))"
      ],
      "metadata": {
        "id": "0G0yCEntcXup"
      },
      "execution_count": null,
      "outputs": []
    },
    {
      "cell_type": "code",
      "source": [
        "max_val = max(class_size.values())\n",
        "oversampling_list = []\n",
        "\n",
        "for i in title_description_df['first'].unique():\n",
        "  oversampling_list.extend(title_description_df[title_description_df['first'] == i].sample(max_val, replace=True)['book_id'])\n",
        "\n",
        "df_over = pd.DataFrame({'book_id':oversampling_list})\n",
        "df_over = df_over.merge(title_description_df, on='book_id', how='left')"
      ],
      "metadata": {
        "id": "wR2SdFR1dsB4"
      },
      "execution_count": null,
      "outputs": []
    },
    {
      "cell_type": "code",
      "source": [
        "X_train_o, X_test_o, y_train_o, y_test_o = train_test_split(df_over[['title','description']], df_over['first'], test_size=0.3, random_state=42)"
      ],
      "metadata": {
        "id": "GvYJGsQLeITl"
      },
      "execution_count": null,
      "outputs": []
    },
    {
      "cell_type": "code",
      "source": [
        "eclf.fit(X_train_o, y_train_o)"
      ],
      "metadata": {
        "colab": {
          "base_uri": "https://localhost:8080/"
        },
        "id": "Dg3Irw5Wefq5",
        "outputId": "5134b64d-c2a9-45f5-8432-d8dfed454ebe"
      },
      "execution_count": null,
      "outputs": [
        {
          "output_type": "execute_result",
          "data": {
            "text/plain": [
              "EnsembleVoteClassifier(clfs=[Pipeline(steps=[('select',\n",
              "                                              ColumnSelector(cols='description',\n",
              "                                                             drop_axis=True)),\n",
              "                                             ('vect',\n",
              "                                              CountVectorizer(stop_words='english')),\n",
              "                                             ('nb', MultinomialNB())]),\n",
              "                             Pipeline(steps=[('select2',\n",
              "                                              ColumnSelector(cols='title',\n",
              "                                                             drop_axis=True)),\n",
              "                                             ('vect2',\n",
              "                                              TfidfVectorizer(min_df=5,\n",
              "                                                              ngram_range=(1,\n",
              "                                                                           2),\n",
              "                                                              stop_words='english',\n",
              "                                                              sublinear_tf=True)),\n",
              "                                             ('log',\n",
              "                                              LogisticRegression(max_iter=200,\n",
              "                                                                 solver='sag'))])],\n",
              "                       voting='soft')"
            ]
          },
          "metadata": {},
          "execution_count": 12
        }
      ]
    },
    {
      "cell_type": "code",
      "source": [
        "train_pred_o = eclf.predict(X_train_o)\n",
        "f1_score(y_train_o, train_pred_o, average='micro')"
      ],
      "metadata": {
        "colab": {
          "base_uri": "https://localhost:8080/"
        },
        "id": "YT1bkUAEfGqr",
        "outputId": "0e3792ca-4b74-4cf1-a315-2777ce7ca29a"
      },
      "execution_count": null,
      "outputs": [
        {
          "output_type": "execute_result",
          "data": {
            "text/plain": [
              "0.7952478490580449"
            ]
          },
          "metadata": {},
          "execution_count": 27
        }
      ]
    },
    {
      "cell_type": "code",
      "source": [
        "f1_score(y_train_o, train_pred_o, average='macro')"
      ],
      "metadata": {
        "colab": {
          "base_uri": "https://localhost:8080/"
        },
        "id": "q27eQB7Bdcm_",
        "outputId": "9d5fef1f-b457-4d54-f54c-b350a7f23987"
      },
      "execution_count": null,
      "outputs": [
        {
          "output_type": "execute_result",
          "data": {
            "text/plain": [
              "0.7937987265704436"
            ]
          },
          "metadata": {},
          "execution_count": 38
        }
      ]
    },
    {
      "cell_type": "code",
      "source": [
        "test_pred_o1 = eclf.predict(X_test)\n",
        "f1_score(y_test, test_pred_o1, average='macro')"
      ],
      "metadata": {
        "colab": {
          "base_uri": "https://localhost:8080/"
        },
        "id": "fiFlRCg3fVV7",
        "outputId": "eaed4b50-b7d8-4fb1-e63d-7385ab27aac0"
      },
      "execution_count": null,
      "outputs": [
        {
          "output_type": "execute_result",
          "data": {
            "text/plain": [
              "0.7252642269833651"
            ]
          },
          "metadata": {},
          "execution_count": 36
        }
      ]
    },
    {
      "cell_type": "code",
      "source": [
        "print(metrics.classification_report(y_test, test_pred_o1))"
      ],
      "metadata": {
        "colab": {
          "base_uri": "https://localhost:8080/"
        },
        "id": "eEHHUl2Tfc1s",
        "outputId": "3fb25d7b-87df-4753-ba13-a9c5c1b483e6"
      },
      "execution_count": null,
      "outputs": [
        {
          "output_type": "stream",
          "name": "stdout",
          "text": [
            "                                        precision    recall  f1-score   support\n",
            "\n",
            "                              children       0.74      0.84      0.79     23995\n",
            "                       comics, graphic       0.76      0.81      0.78     14085\n",
            "                   fantasy, paranormal       0.77      0.76      0.76     43738\n",
            "                               fiction       0.81      0.57      0.67     76246\n",
            "history, historical fiction, biography       0.62      0.70      0.65     33700\n",
            "              mystery, thriller, crime       0.76      0.85      0.80     37329\n",
            "                           non-fiction       0.87      0.71      0.78     65419\n",
            "                                poetry       0.48      0.93      0.63      6970\n",
            "                               romance       0.77      0.86      0.81     56967\n",
            "                           young-adult       0.45      0.82      0.58     11099\n",
            "\n",
            "                              accuracy                           0.74    369548\n",
            "                             macro avg       0.70      0.78      0.73    369548\n",
            "                          weighted avg       0.76      0.74      0.74    369548\n",
            "\n"
          ]
        }
      ]
    },
    {
      "cell_type": "markdown",
      "source": [
        "## Save Model"
      ],
      "metadata": {
        "id": "8TCh4wAN5pOx"
      }
    },
    {
      "cell_type": "code",
      "source": [
        "filename = 'ensemble_over_orig.sav'\n",
        "pickle.dump(eclf, open(filename, 'wb'))"
      ],
      "metadata": {
        "id": "o_TbnofnSepW"
      },
      "execution_count": null,
      "outputs": []
    },
    {
      "cell_type": "code",
      "source": [
        "all_pred_data = eclf.predict(title_description_df[['title','description']])"
      ],
      "metadata": {
        "id": "lym8MrSvSu3G"
      },
      "execution_count": null,
      "outputs": []
    },
    {
      "cell_type": "code",
      "source": [
        "title_description_df['book_id'].nunique()"
      ],
      "metadata": {
        "colab": {
          "base_uri": "https://localhost:8080/"
        },
        "id": "V2Nohm4jrIzk",
        "outputId": "0addd505-ae2b-48a0-e59e-11e4a0d72bd8"
      },
      "execution_count": null,
      "outputs": [
        {
          "output_type": "execute_result",
          "data": {
            "text/plain": [
              "1231824"
            ]
          },
          "metadata": {},
          "execution_count": 18
        }
      ]
    },
    {
      "cell_type": "code",
      "source": [
        "df_final = pd.DataFrame(list(zip(title_description_df['book_id'], all_pred_data, title_description_df['first'])),\n",
        "               columns =['bid', 'ensemble_predictions', 'true_genre'])\n",
        "df_final.to_csv('gdrive/MyDrive/Final_Data/all_laura_ensemble_pred.csv')"
      ],
      "metadata": {
        "id": "0mWQCD3tS7ko"
      },
      "execution_count": null,
      "outputs": []
    },
    {
      "cell_type": "markdown",
      "source": [
        "# Part Two: Ensemble With Model Predictions\n",
        "\n",
        "This next section explores using the 5 base models to predict on the entire dataset and then training another model to create predictions that combine them all together. In the following models, the 5 base models used are: \n",
        "1.  TF-IDF + Naive Bayes on title data\n",
        "2.  TF-IDF + Logistic Regression on title data\n",
        "3.  Word Embeddings + LSTM on description data\n",
        "4.  Word Embeddings + Naive Bayes on description data\n",
        "5.  Neural Net on Book Cover data"
      ],
      "metadata": {
        "id": "WxRqOiRU5BqO"
      }
    },
    {
      "cell_type": "markdown",
      "metadata": {
        "id": "rL5cln2pwzyT"
      },
      "source": [
        "## Combine and Clean Data\n",
        "The first step in to combine the predictions into one dataframe using book_id as the unique identifier. "
      ]
    },
    {
      "cell_type": "markdown",
      "source": [
        "### Book Descriptions\n",
        "Clean the predictions created by the two book description models"
      ],
      "metadata": {
        "id": "OcOs6Up_i7Jq"
      }
    },
    {
      "cell_type": "code",
      "execution_count": 74,
      "metadata": {
        "id": "BvWos_AH9tAo"
      },
      "outputs": [],
      "source": [
        "book_desc_pred = pd.read_csv('gdrive/MyDrive/Grad School/Spring 2022/CIS 519/CIS 519 Project/Final_Data/book_description_predictions.csv')"
      ]
    },
    {
      "cell_type": "code",
      "execution_count": 75,
      "metadata": {
        "id": "pjrUY_BL-YW9"
      },
      "outputs": [],
      "source": [
        "genre_encoding_lookup_df = book_desc_pred[['true_label', 'true_genre']].drop_duplicates()"
      ]
    },
    {
      "cell_type": "code",
      "source": [
        "book_desc_pred2 = pd.read_csv('gdrive/MyDrive/Grad School/Spring 2022/CIS 519/CIS 519 Project/Final_Data/all_nb_desc_final_predictions.csv')\n"
      ],
      "metadata": {
        "id": "AtJifDb4Xk7C"
      },
      "execution_count": 76,
      "outputs": []
    },
    {
      "cell_type": "code",
      "source": [
        "all_desc = book_desc_pred.merge(book_desc_pred2, on='bid', how='outer')\n",
        "all_desc = all_desc[['bid', 'lstm_predictions', 'nb_predictions']]\n",
        "all_desc = all_desc.merge(genre_encoding_lookup_df, left_on='nb_predictions', right_on='true_genre')\n",
        "all_desc = all_desc[['bid', 'lstm_predictions', 'true_label']]\n",
        "all_desc = all_desc.rename(columns={'true_label': 'nb_desc_predictions'})\n",
        "all_desc.head()"
      ],
      "metadata": {
        "colab": {
          "base_uri": "https://localhost:8080/",
          "height": 206
        },
        "id": "dQ3DWWBDX0Of",
        "outputId": "20940cce-f10c-4b43-e901-f8454ef77ae6"
      },
      "execution_count": 77,
      "outputs": [
        {
          "output_type": "execute_result",
          "data": {
            "text/plain": [
              "       bid  lstm_predictions  nb_desc_predictions\n",
              "0  1333909                 4                    3\n",
              "1    89375                 6                    3\n",
              "2  3209316                 4                    3\n",
              "3  4541271                 2                    3\n",
              "4  3209319                 4                    3"
            ],
            "text/html": [
              "\n",
              "  <div id=\"df-189a5a00-bc37-4690-b411-b8a991d7bb95\">\n",
              "    <div class=\"colab-df-container\">\n",
              "      <div>\n",
              "<style scoped>\n",
              "    .dataframe tbody tr th:only-of-type {\n",
              "        vertical-align: middle;\n",
              "    }\n",
              "\n",
              "    .dataframe tbody tr th {\n",
              "        vertical-align: top;\n",
              "    }\n",
              "\n",
              "    .dataframe thead th {\n",
              "        text-align: right;\n",
              "    }\n",
              "</style>\n",
              "<table border=\"1\" class=\"dataframe\">\n",
              "  <thead>\n",
              "    <tr style=\"text-align: right;\">\n",
              "      <th></th>\n",
              "      <th>bid</th>\n",
              "      <th>lstm_predictions</th>\n",
              "      <th>nb_desc_predictions</th>\n",
              "    </tr>\n",
              "  </thead>\n",
              "  <tbody>\n",
              "    <tr>\n",
              "      <th>0</th>\n",
              "      <td>1333909</td>\n",
              "      <td>4</td>\n",
              "      <td>3</td>\n",
              "    </tr>\n",
              "    <tr>\n",
              "      <th>1</th>\n",
              "      <td>89375</td>\n",
              "      <td>6</td>\n",
              "      <td>3</td>\n",
              "    </tr>\n",
              "    <tr>\n",
              "      <th>2</th>\n",
              "      <td>3209316</td>\n",
              "      <td>4</td>\n",
              "      <td>3</td>\n",
              "    </tr>\n",
              "    <tr>\n",
              "      <th>3</th>\n",
              "      <td>4541271</td>\n",
              "      <td>2</td>\n",
              "      <td>3</td>\n",
              "    </tr>\n",
              "    <tr>\n",
              "      <th>4</th>\n",
              "      <td>3209319</td>\n",
              "      <td>4</td>\n",
              "      <td>3</td>\n",
              "    </tr>\n",
              "  </tbody>\n",
              "</table>\n",
              "</div>\n",
              "      <button class=\"colab-df-convert\" onclick=\"convertToInteractive('df-189a5a00-bc37-4690-b411-b8a991d7bb95')\"\n",
              "              title=\"Convert this dataframe to an interactive table.\"\n",
              "              style=\"display:none;\">\n",
              "        \n",
              "  <svg xmlns=\"http://www.w3.org/2000/svg\" height=\"24px\"viewBox=\"0 0 24 24\"\n",
              "       width=\"24px\">\n",
              "    <path d=\"M0 0h24v24H0V0z\" fill=\"none\"/>\n",
              "    <path d=\"M18.56 5.44l.94 2.06.94-2.06 2.06-.94-2.06-.94-.94-2.06-.94 2.06-2.06.94zm-11 1L8.5 8.5l.94-2.06 2.06-.94-2.06-.94L8.5 2.5l-.94 2.06-2.06.94zm10 10l.94 2.06.94-2.06 2.06-.94-2.06-.94-.94-2.06-.94 2.06-2.06.94z\"/><path d=\"M17.41 7.96l-1.37-1.37c-.4-.4-.92-.59-1.43-.59-.52 0-1.04.2-1.43.59L10.3 9.45l-7.72 7.72c-.78.78-.78 2.05 0 2.83L4 21.41c.39.39.9.59 1.41.59.51 0 1.02-.2 1.41-.59l7.78-7.78 2.81-2.81c.8-.78.8-2.07 0-2.86zM5.41 20L4 18.59l7.72-7.72 1.47 1.35L5.41 20z\"/>\n",
              "  </svg>\n",
              "      </button>\n",
              "      \n",
              "  <style>\n",
              "    .colab-df-container {\n",
              "      display:flex;\n",
              "      flex-wrap:wrap;\n",
              "      gap: 12px;\n",
              "    }\n",
              "\n",
              "    .colab-df-convert {\n",
              "      background-color: #E8F0FE;\n",
              "      border: none;\n",
              "      border-radius: 50%;\n",
              "      cursor: pointer;\n",
              "      display: none;\n",
              "      fill: #1967D2;\n",
              "      height: 32px;\n",
              "      padding: 0 0 0 0;\n",
              "      width: 32px;\n",
              "    }\n",
              "\n",
              "    .colab-df-convert:hover {\n",
              "      background-color: #E2EBFA;\n",
              "      box-shadow: 0px 1px 2px rgba(60, 64, 67, 0.3), 0px 1px 3px 1px rgba(60, 64, 67, 0.15);\n",
              "      fill: #174EA6;\n",
              "    }\n",
              "\n",
              "    [theme=dark] .colab-df-convert {\n",
              "      background-color: #3B4455;\n",
              "      fill: #D2E3FC;\n",
              "    }\n",
              "\n",
              "    [theme=dark] .colab-df-convert:hover {\n",
              "      background-color: #434B5C;\n",
              "      box-shadow: 0px 1px 3px 1px rgba(0, 0, 0, 0.15);\n",
              "      filter: drop-shadow(0px 1px 2px rgba(0, 0, 0, 0.3));\n",
              "      fill: #FFFFFF;\n",
              "    }\n",
              "  </style>\n",
              "\n",
              "      <script>\n",
              "        const buttonEl =\n",
              "          document.querySelector('#df-189a5a00-bc37-4690-b411-b8a991d7bb95 button.colab-df-convert');\n",
              "        buttonEl.style.display =\n",
              "          google.colab.kernel.accessAllowed ? 'block' : 'none';\n",
              "\n",
              "        async function convertToInteractive(key) {\n",
              "          const element = document.querySelector('#df-189a5a00-bc37-4690-b411-b8a991d7bb95');\n",
              "          const dataTable =\n",
              "            await google.colab.kernel.invokeFunction('convertToInteractive',\n",
              "                                                     [key], {});\n",
              "          if (!dataTable) return;\n",
              "\n",
              "          const docLinkHtml = 'Like what you see? Visit the ' +\n",
              "            '<a target=\"_blank\" href=https://colab.research.google.com/notebooks/data_table.ipynb>data table notebook</a>'\n",
              "            + ' to learn more about interactive tables.';\n",
              "          element.innerHTML = '';\n",
              "          dataTable['output_type'] = 'display_data';\n",
              "          await google.colab.output.renderOutput(dataTable, element);\n",
              "          const docLink = document.createElement('div');\n",
              "          docLink.innerHTML = docLinkHtml;\n",
              "          element.appendChild(docLink);\n",
              "        }\n",
              "      </script>\n",
              "    </div>\n",
              "  </div>\n",
              "  "
            ]
          },
          "metadata": {},
          "execution_count": 77
        }
      ]
    },
    {
      "cell_type": "markdown",
      "source": [
        "### Book Titles\n",
        "Clean the predictions created by the two book title models"
      ],
      "metadata": {
        "id": "D33c9hiOi4O1"
      }
    },
    {
      "cell_type": "code",
      "execution_count": 78,
      "metadata": {
        "id": "tTPrS79Y3qKx"
      },
      "outputs": [],
      "source": [
        "book_title_pred = pd.read_csv('gdrive/MyDrive/Grad School/Spring 2022/CIS 519/CIS 519 Project/Final_Data/book_title_predictions.csv')"
      ]
    },
    {
      "cell_type": "code",
      "execution_count": 79,
      "metadata": {
        "id": "93LifdyBAMln"
      },
      "outputs": [],
      "source": [
        "book_title_pred = book_title_pred.merge(genre_encoding_lookup_df, left_on='first', right_on='true_genre')\n",
        "book_title_pred = book_title_pred.merge(genre_encoding_lookup_df, left_on='NB Predictions', right_on='true_genre')\n",
        "book_title_pred = book_title_pred.merge(genre_encoding_lookup_df, left_on='LogReg Predictions', right_on='true_genre')"
      ]
    },
    {
      "cell_type": "code",
      "execution_count": 80,
      "metadata": {
        "id": "TiQRZPUoASHu"
      },
      "outputs": [],
      "source": [
        "book_title_pred = book_title_pred.rename(columns={'true_label_x': 'true_label1', 'true_label_y': 'nb_pred', 'true_label': 'logreg_pred'})\n",
        "book_title_pred = book_title_pred.drop(columns=['true_genre_x', 'true_genre_y', 'true_genre'])"
      ]
    },
    {
      "cell_type": "code",
      "execution_count": 81,
      "metadata": {
        "id": "Hikv-32390fY"
      },
      "outputs": [],
      "source": [
        "merged_title_desc = all_desc.merge(book_title_pred, right_on='book_id', left_on='bid', how='right')\n",
        "merged_title_desc = merged_title_desc.drop(columns=['title', 'bid', 'NB Predictions', 'LogReg Predictions'])"
      ]
    },
    {
      "cell_type": "code",
      "execution_count": 82,
      "metadata": {
        "id": "MFiqE29fAY6q"
      },
      "outputs": [],
      "source": [
        "merged_title_desc['nb_pred'] = merged_title_desc['nb_pred'].astype(np.float64) \n",
        "merged_title_desc['logreg_pred'] = merged_title_desc['logreg_pred'].astype(np.float64) "
      ]
    },
    {
      "cell_type": "code",
      "execution_count": 83,
      "metadata": {
        "colab": {
          "base_uri": "https://localhost:8080/",
          "height": 206
        },
        "id": "0FoqQxelVIxv",
        "outputId": "3756cb36-e7c2-43df-df9e-20ba8f5f74b2"
      },
      "outputs": [
        {
          "output_type": "execute_result",
          "data": {
            "text/plain": [
              "   lstm_predictions  nb_desc_predictions   book_id  \\\n",
              "0               NaN                  NaN   5333265   \n",
              "1               4.0                  5.0   6066814   \n",
              "2               4.0                  4.0  13707894   \n",
              "3               NaN                  NaN   6395321   \n",
              "4               NaN                  NaN  18355356   \n",
              "\n",
              "                                    first  true_label1  nb_pred  logreg_pred  \n",
              "0  history, historical fiction, biography            4      4.0          4.0  \n",
              "1  history, historical fiction, biography            4      4.0          4.0  \n",
              "2  history, historical fiction, biography            4      4.0          4.0  \n",
              "3  history, historical fiction, biography            4      4.0          4.0  \n",
              "4  history, historical fiction, biography            4      4.0          4.0  "
            ],
            "text/html": [
              "\n",
              "  <div id=\"df-f1f6b4d4-d00c-411b-93a1-b8aa898d0d22\">\n",
              "    <div class=\"colab-df-container\">\n",
              "      <div>\n",
              "<style scoped>\n",
              "    .dataframe tbody tr th:only-of-type {\n",
              "        vertical-align: middle;\n",
              "    }\n",
              "\n",
              "    .dataframe tbody tr th {\n",
              "        vertical-align: top;\n",
              "    }\n",
              "\n",
              "    .dataframe thead th {\n",
              "        text-align: right;\n",
              "    }\n",
              "</style>\n",
              "<table border=\"1\" class=\"dataframe\">\n",
              "  <thead>\n",
              "    <tr style=\"text-align: right;\">\n",
              "      <th></th>\n",
              "      <th>lstm_predictions</th>\n",
              "      <th>nb_desc_predictions</th>\n",
              "      <th>book_id</th>\n",
              "      <th>first</th>\n",
              "      <th>true_label1</th>\n",
              "      <th>nb_pred</th>\n",
              "      <th>logreg_pred</th>\n",
              "    </tr>\n",
              "  </thead>\n",
              "  <tbody>\n",
              "    <tr>\n",
              "      <th>0</th>\n",
              "      <td>NaN</td>\n",
              "      <td>NaN</td>\n",
              "      <td>5333265</td>\n",
              "      <td>history, historical fiction, biography</td>\n",
              "      <td>4</td>\n",
              "      <td>4.0</td>\n",
              "      <td>4.0</td>\n",
              "    </tr>\n",
              "    <tr>\n",
              "      <th>1</th>\n",
              "      <td>4.0</td>\n",
              "      <td>5.0</td>\n",
              "      <td>6066814</td>\n",
              "      <td>history, historical fiction, biography</td>\n",
              "      <td>4</td>\n",
              "      <td>4.0</td>\n",
              "      <td>4.0</td>\n",
              "    </tr>\n",
              "    <tr>\n",
              "      <th>2</th>\n",
              "      <td>4.0</td>\n",
              "      <td>4.0</td>\n",
              "      <td>13707894</td>\n",
              "      <td>history, historical fiction, biography</td>\n",
              "      <td>4</td>\n",
              "      <td>4.0</td>\n",
              "      <td>4.0</td>\n",
              "    </tr>\n",
              "    <tr>\n",
              "      <th>3</th>\n",
              "      <td>NaN</td>\n",
              "      <td>NaN</td>\n",
              "      <td>6395321</td>\n",
              "      <td>history, historical fiction, biography</td>\n",
              "      <td>4</td>\n",
              "      <td>4.0</td>\n",
              "      <td>4.0</td>\n",
              "    </tr>\n",
              "    <tr>\n",
              "      <th>4</th>\n",
              "      <td>NaN</td>\n",
              "      <td>NaN</td>\n",
              "      <td>18355356</td>\n",
              "      <td>history, historical fiction, biography</td>\n",
              "      <td>4</td>\n",
              "      <td>4.0</td>\n",
              "      <td>4.0</td>\n",
              "    </tr>\n",
              "  </tbody>\n",
              "</table>\n",
              "</div>\n",
              "      <button class=\"colab-df-convert\" onclick=\"convertToInteractive('df-f1f6b4d4-d00c-411b-93a1-b8aa898d0d22')\"\n",
              "              title=\"Convert this dataframe to an interactive table.\"\n",
              "              style=\"display:none;\">\n",
              "        \n",
              "  <svg xmlns=\"http://www.w3.org/2000/svg\" height=\"24px\"viewBox=\"0 0 24 24\"\n",
              "       width=\"24px\">\n",
              "    <path d=\"M0 0h24v24H0V0z\" fill=\"none\"/>\n",
              "    <path d=\"M18.56 5.44l.94 2.06.94-2.06 2.06-.94-2.06-.94-.94-2.06-.94 2.06-2.06.94zm-11 1L8.5 8.5l.94-2.06 2.06-.94-2.06-.94L8.5 2.5l-.94 2.06-2.06.94zm10 10l.94 2.06.94-2.06 2.06-.94-2.06-.94-.94-2.06-.94 2.06-2.06.94z\"/><path d=\"M17.41 7.96l-1.37-1.37c-.4-.4-.92-.59-1.43-.59-.52 0-1.04.2-1.43.59L10.3 9.45l-7.72 7.72c-.78.78-.78 2.05 0 2.83L4 21.41c.39.39.9.59 1.41.59.51 0 1.02-.2 1.41-.59l7.78-7.78 2.81-2.81c.8-.78.8-2.07 0-2.86zM5.41 20L4 18.59l7.72-7.72 1.47 1.35L5.41 20z\"/>\n",
              "  </svg>\n",
              "      </button>\n",
              "      \n",
              "  <style>\n",
              "    .colab-df-container {\n",
              "      display:flex;\n",
              "      flex-wrap:wrap;\n",
              "      gap: 12px;\n",
              "    }\n",
              "\n",
              "    .colab-df-convert {\n",
              "      background-color: #E8F0FE;\n",
              "      border: none;\n",
              "      border-radius: 50%;\n",
              "      cursor: pointer;\n",
              "      display: none;\n",
              "      fill: #1967D2;\n",
              "      height: 32px;\n",
              "      padding: 0 0 0 0;\n",
              "      width: 32px;\n",
              "    }\n",
              "\n",
              "    .colab-df-convert:hover {\n",
              "      background-color: #E2EBFA;\n",
              "      box-shadow: 0px 1px 2px rgba(60, 64, 67, 0.3), 0px 1px 3px 1px rgba(60, 64, 67, 0.15);\n",
              "      fill: #174EA6;\n",
              "    }\n",
              "\n",
              "    [theme=dark] .colab-df-convert {\n",
              "      background-color: #3B4455;\n",
              "      fill: #D2E3FC;\n",
              "    }\n",
              "\n",
              "    [theme=dark] .colab-df-convert:hover {\n",
              "      background-color: #434B5C;\n",
              "      box-shadow: 0px 1px 3px 1px rgba(0, 0, 0, 0.15);\n",
              "      filter: drop-shadow(0px 1px 2px rgba(0, 0, 0, 0.3));\n",
              "      fill: #FFFFFF;\n",
              "    }\n",
              "  </style>\n",
              "\n",
              "      <script>\n",
              "        const buttonEl =\n",
              "          document.querySelector('#df-f1f6b4d4-d00c-411b-93a1-b8aa898d0d22 button.colab-df-convert');\n",
              "        buttonEl.style.display =\n",
              "          google.colab.kernel.accessAllowed ? 'block' : 'none';\n",
              "\n",
              "        async function convertToInteractive(key) {\n",
              "          const element = document.querySelector('#df-f1f6b4d4-d00c-411b-93a1-b8aa898d0d22');\n",
              "          const dataTable =\n",
              "            await google.colab.kernel.invokeFunction('convertToInteractive',\n",
              "                                                     [key], {});\n",
              "          if (!dataTable) return;\n",
              "\n",
              "          const docLinkHtml = 'Like what you see? Visit the ' +\n",
              "            '<a target=\"_blank\" href=https://colab.research.google.com/notebooks/data_table.ipynb>data table notebook</a>'\n",
              "            + ' to learn more about interactive tables.';\n",
              "          element.innerHTML = '';\n",
              "          dataTable['output_type'] = 'display_data';\n",
              "          await google.colab.output.renderOutput(dataTable, element);\n",
              "          const docLink = document.createElement('div');\n",
              "          docLink.innerHTML = docLinkHtml;\n",
              "          element.appendChild(docLink);\n",
              "        }\n",
              "      </script>\n",
              "    </div>\n",
              "  </div>\n",
              "  "
            ]
          },
          "metadata": {},
          "execution_count": 83
        }
      ],
      "source": [
        "merged_title_desc = merged_title_desc.drop(columns=['Unnamed: 0'])\n",
        "\n",
        "merged_title_desc.head()"
      ]
    },
    {
      "cell_type": "markdown",
      "source": [
        "### Book Covers\n",
        "Clean the predictions created by the book covers model"
      ],
      "metadata": {
        "id": "i6OtG9qwi9sk"
      }
    },
    {
      "cell_type": "code",
      "execution_count": 84,
      "metadata": {
        "id": "w3YCAR_ysdIb"
      },
      "outputs": [],
      "source": [
        "cover_df = pd.read_csv('gdrive/MyDrive/Grad School/Spring 2022/CIS 519/CIS 519 Project/Final_Data/book_cover_predictions.csv')"
      ]
    },
    {
      "cell_type": "code",
      "execution_count": 85,
      "metadata": {
        "id": "mYcJf3XbsidY"
      },
      "outputs": [],
      "source": [
        "cover_df = cover_df[['book_id', 'predictions']]\n",
        "cover_df = cover_df.merge(genre_encoding_lookup_df, left_on='predictions', right_on='true_genre')\n",
        "cover_df = cover_df[['book_id', 'true_label']]\n",
        "cover_df = cover_df.rename(columns={'true_label': 'cover_pred'})\n",
        "cover_df['cover_pred'] = cover_df['cover_pred'].astype(np.float64) "
      ]
    },
    {
      "cell_type": "code",
      "execution_count": 86,
      "metadata": {
        "colab": {
          "base_uri": "https://localhost:8080/",
          "height": 206
        },
        "id": "xSlPLYmGt4BR",
        "outputId": "e69c8cd7-049a-4add-ee4a-331e6d615fd7"
      },
      "outputs": [
        {
          "output_type": "execute_result",
          "data": {
            "text/plain": [
              "   lstm_predictions  nb_desc_predictions   book_id  \\\n",
              "0               NaN                  NaN   5333265   \n",
              "1               4.0                  5.0   6066814   \n",
              "2               4.0                  4.0  13707894   \n",
              "3               NaN                  NaN   6395321   \n",
              "4               NaN                  NaN  18355356   \n",
              "\n",
              "                                    first  true_label1  nb_pred  logreg_pred  \\\n",
              "0  history, historical fiction, biography            4      4.0          4.0   \n",
              "1  history, historical fiction, biography            4      4.0          4.0   \n",
              "2  history, historical fiction, biography            4      4.0          4.0   \n",
              "3  history, historical fiction, biography            4      4.0          4.0   \n",
              "4  history, historical fiction, biography            4      4.0          4.0   \n",
              "\n",
              "   cover_pred  \n",
              "0         4.0  \n",
              "1         5.0  \n",
              "2         4.0  \n",
              "3         NaN  \n",
              "4         4.0  "
            ],
            "text/html": [
              "\n",
              "  <div id=\"df-8c073fca-b6a2-4b46-8831-b022a7d3e92b\">\n",
              "    <div class=\"colab-df-container\">\n",
              "      <div>\n",
              "<style scoped>\n",
              "    .dataframe tbody tr th:only-of-type {\n",
              "        vertical-align: middle;\n",
              "    }\n",
              "\n",
              "    .dataframe tbody tr th {\n",
              "        vertical-align: top;\n",
              "    }\n",
              "\n",
              "    .dataframe thead th {\n",
              "        text-align: right;\n",
              "    }\n",
              "</style>\n",
              "<table border=\"1\" class=\"dataframe\">\n",
              "  <thead>\n",
              "    <tr style=\"text-align: right;\">\n",
              "      <th></th>\n",
              "      <th>lstm_predictions</th>\n",
              "      <th>nb_desc_predictions</th>\n",
              "      <th>book_id</th>\n",
              "      <th>first</th>\n",
              "      <th>true_label1</th>\n",
              "      <th>nb_pred</th>\n",
              "      <th>logreg_pred</th>\n",
              "      <th>cover_pred</th>\n",
              "    </tr>\n",
              "  </thead>\n",
              "  <tbody>\n",
              "    <tr>\n",
              "      <th>0</th>\n",
              "      <td>NaN</td>\n",
              "      <td>NaN</td>\n",
              "      <td>5333265</td>\n",
              "      <td>history, historical fiction, biography</td>\n",
              "      <td>4</td>\n",
              "      <td>4.0</td>\n",
              "      <td>4.0</td>\n",
              "      <td>4.0</td>\n",
              "    </tr>\n",
              "    <tr>\n",
              "      <th>1</th>\n",
              "      <td>4.0</td>\n",
              "      <td>5.0</td>\n",
              "      <td>6066814</td>\n",
              "      <td>history, historical fiction, biography</td>\n",
              "      <td>4</td>\n",
              "      <td>4.0</td>\n",
              "      <td>4.0</td>\n",
              "      <td>5.0</td>\n",
              "    </tr>\n",
              "    <tr>\n",
              "      <th>2</th>\n",
              "      <td>4.0</td>\n",
              "      <td>4.0</td>\n",
              "      <td>13707894</td>\n",
              "      <td>history, historical fiction, biography</td>\n",
              "      <td>4</td>\n",
              "      <td>4.0</td>\n",
              "      <td>4.0</td>\n",
              "      <td>4.0</td>\n",
              "    </tr>\n",
              "    <tr>\n",
              "      <th>3</th>\n",
              "      <td>NaN</td>\n",
              "      <td>NaN</td>\n",
              "      <td>6395321</td>\n",
              "      <td>history, historical fiction, biography</td>\n",
              "      <td>4</td>\n",
              "      <td>4.0</td>\n",
              "      <td>4.0</td>\n",
              "      <td>NaN</td>\n",
              "    </tr>\n",
              "    <tr>\n",
              "      <th>4</th>\n",
              "      <td>NaN</td>\n",
              "      <td>NaN</td>\n",
              "      <td>18355356</td>\n",
              "      <td>history, historical fiction, biography</td>\n",
              "      <td>4</td>\n",
              "      <td>4.0</td>\n",
              "      <td>4.0</td>\n",
              "      <td>4.0</td>\n",
              "    </tr>\n",
              "  </tbody>\n",
              "</table>\n",
              "</div>\n",
              "      <button class=\"colab-df-convert\" onclick=\"convertToInteractive('df-8c073fca-b6a2-4b46-8831-b022a7d3e92b')\"\n",
              "              title=\"Convert this dataframe to an interactive table.\"\n",
              "              style=\"display:none;\">\n",
              "        \n",
              "  <svg xmlns=\"http://www.w3.org/2000/svg\" height=\"24px\"viewBox=\"0 0 24 24\"\n",
              "       width=\"24px\">\n",
              "    <path d=\"M0 0h24v24H0V0z\" fill=\"none\"/>\n",
              "    <path d=\"M18.56 5.44l.94 2.06.94-2.06 2.06-.94-2.06-.94-.94-2.06-.94 2.06-2.06.94zm-11 1L8.5 8.5l.94-2.06 2.06-.94-2.06-.94L8.5 2.5l-.94 2.06-2.06.94zm10 10l.94 2.06.94-2.06 2.06-.94-2.06-.94-.94-2.06-.94 2.06-2.06.94z\"/><path d=\"M17.41 7.96l-1.37-1.37c-.4-.4-.92-.59-1.43-.59-.52 0-1.04.2-1.43.59L10.3 9.45l-7.72 7.72c-.78.78-.78 2.05 0 2.83L4 21.41c.39.39.9.59 1.41.59.51 0 1.02-.2 1.41-.59l7.78-7.78 2.81-2.81c.8-.78.8-2.07 0-2.86zM5.41 20L4 18.59l7.72-7.72 1.47 1.35L5.41 20z\"/>\n",
              "  </svg>\n",
              "      </button>\n",
              "      \n",
              "  <style>\n",
              "    .colab-df-container {\n",
              "      display:flex;\n",
              "      flex-wrap:wrap;\n",
              "      gap: 12px;\n",
              "    }\n",
              "\n",
              "    .colab-df-convert {\n",
              "      background-color: #E8F0FE;\n",
              "      border: none;\n",
              "      border-radius: 50%;\n",
              "      cursor: pointer;\n",
              "      display: none;\n",
              "      fill: #1967D2;\n",
              "      height: 32px;\n",
              "      padding: 0 0 0 0;\n",
              "      width: 32px;\n",
              "    }\n",
              "\n",
              "    .colab-df-convert:hover {\n",
              "      background-color: #E2EBFA;\n",
              "      box-shadow: 0px 1px 2px rgba(60, 64, 67, 0.3), 0px 1px 3px 1px rgba(60, 64, 67, 0.15);\n",
              "      fill: #174EA6;\n",
              "    }\n",
              "\n",
              "    [theme=dark] .colab-df-convert {\n",
              "      background-color: #3B4455;\n",
              "      fill: #D2E3FC;\n",
              "    }\n",
              "\n",
              "    [theme=dark] .colab-df-convert:hover {\n",
              "      background-color: #434B5C;\n",
              "      box-shadow: 0px 1px 3px 1px rgba(0, 0, 0, 0.15);\n",
              "      filter: drop-shadow(0px 1px 2px rgba(0, 0, 0, 0.3));\n",
              "      fill: #FFFFFF;\n",
              "    }\n",
              "  </style>\n",
              "\n",
              "      <script>\n",
              "        const buttonEl =\n",
              "          document.querySelector('#df-8c073fca-b6a2-4b46-8831-b022a7d3e92b button.colab-df-convert');\n",
              "        buttonEl.style.display =\n",
              "          google.colab.kernel.accessAllowed ? 'block' : 'none';\n",
              "\n",
              "        async function convertToInteractive(key) {\n",
              "          const element = document.querySelector('#df-8c073fca-b6a2-4b46-8831-b022a7d3e92b');\n",
              "          const dataTable =\n",
              "            await google.colab.kernel.invokeFunction('convertToInteractive',\n",
              "                                                     [key], {});\n",
              "          if (!dataTable) return;\n",
              "\n",
              "          const docLinkHtml = 'Like what you see? Visit the ' +\n",
              "            '<a target=\"_blank\" href=https://colab.research.google.com/notebooks/data_table.ipynb>data table notebook</a>'\n",
              "            + ' to learn more about interactive tables.';\n",
              "          element.innerHTML = '';\n",
              "          dataTable['output_type'] = 'display_data';\n",
              "          await google.colab.output.renderOutput(dataTable, element);\n",
              "          const docLink = document.createElement('div');\n",
              "          docLink.innerHTML = docLinkHtml;\n",
              "          element.appendChild(docLink);\n",
              "        }\n",
              "      </script>\n",
              "    </div>\n",
              "  </div>\n",
              "  "
            ]
          },
          "metadata": {},
          "execution_count": 86
        }
      ],
      "source": [
        "merged_all = merged_title_desc.merge(cover_df, on='book_id', how='left')\n",
        "merged_all.head()"
      ]
    },
    {
      "cell_type": "markdown",
      "source": [
        "## Exploring and Comparing Predictions\n",
        "\n",
        "First, we're going to look at the predictions as they apply to the entire dataset.\n",
        "\n",
        "- 100% of the data has title-based predictions\n",
        "- 85% of the data has description-based predictions\n",
        "- 21% of the data has cover-based predictions\n",
        "- 20% of the data has all three\n",
        "\n",
        "Before we start training the model, lets take a look at what the model could do in a best case scenario. After all, if the correct genre wasn't guessed in any of the 5 models, it would be impossible for the ensemble to get it right.\n"
      ],
      "metadata": {
        "id": "mz6vQ-h1KzTG"
      }
    },
    {
      "cell_type": "code",
      "source": [
        "# percent of books where the correct label is equal to one of the predictions\n",
        "len(merged_all[(merged_all['true_label1'] == merged_all['nb_desc_predictions']) |\n",
        "               (merged_all['true_label1'] == merged_all['lstm_predictions']) |\n",
        "               (merged_all['true_label1'] == merged_all['nb_pred']) |\n",
        "               (merged_all['true_label1'] == merged_all['logreg_pred']) |\n",
        "               (merged_all['true_label1'] == merged_all['cover_pred'])])/len(merged_all)\n",
        "\n"
      ],
      "metadata": {
        "colab": {
          "base_uri": "https://localhost:8080/"
        },
        "id": "qpmn-MBRI2vK",
        "outputId": "5cca5b0c-059d-4bdb-9d29-ff4cd575fd05"
      },
      "execution_count": 200,
      "outputs": [
        {
          "output_type": "execute_result",
          "data": {
            "text/plain": [
              "0.8927947909918417"
            ]
          },
          "metadata": {},
          "execution_count": 200
        }
      ]
    },
    {
      "cell_type": "code",
      "source": [
        "# percent of books where the correct label is equal to one of the predictions\n",
        "merged_all[(merged_all['true_label1'] != merged_all['nb_desc_predictions']) &\n",
        "           (merged_all['true_label1'] != merged_all['lstm_predictions']) &\n",
        "           (merged_all['true_label1'] != merged_all['nb_pred']) &\n",
        "           (merged_all['true_label1'] != merged_all['logreg_pred']) &\n",
        "           (merged_all['true_label1'] != merged_all['cover_pred'])]['first'].hist()\n",
        "plt.xticks(rotation=90)\n"
      ],
      "metadata": {
        "colab": {
          "base_uri": "https://localhost:8080/",
          "height": 450
        },
        "id": "7lT_ezQWLk8X",
        "outputId": "ce8048f7-e609-44ea-b0d1-2f8475b81e1c"
      },
      "execution_count": 201,
      "outputs": [
        {
          "output_type": "execute_result",
          "data": {
            "text/plain": [
              "([0, 1, 2, 3, 4, 5, 6, 7, 8, 9], <a list of 10 Text major ticklabel objects>)"
            ]
          },
          "metadata": {},
          "execution_count": 201
        },
        {
          "output_type": "display_data",
          "data": {
            "text/plain": [
              "<Figure size 432x288 with 1 Axes>"
            ],
            "image/png": "[encoded data removed]"
          },
          "metadata": {
            "needs_background": "light"
          }
        }
      ]
    },
    {
      "cell_type": "code",
      "source": [
        "percent_all_corr = len(merged_all[(merged_all['true_label1'] == merged_all['nb_desc_predictions']) &\n",
        "                                  (merged_all['true_label1'] == merged_all['lstm_predictions']) &\n",
        "                                  (merged_all['true_label1'] == merged_all['nb_pred']) & \n",
        "                                  (merged_all['true_label1'] == merged_all['logreg_pred']) & \n",
        "                                  (merged_all['true_label1'] == merged_all['cover_pred'])])/len(merged_all)\n",
        "percent_nb_desc_only = len(merged_all[(merged_all['true_label1'] == merged_all['nb_desc_predictions']) & \n",
        "                                      (merged_all['true_label1'] != merged_all['lstm_predictions']) & \n",
        "                                      (merged_all['true_label1'] != merged_all['nb_pred']) &\n",
        "                                      (merged_all['true_label1'] != merged_all['logreg_pred']) & \n",
        "                                      (merged_all['true_label1'] != merged_all['cover_pred'])])/len(merged_all)\n",
        "percent_lstm_only = len(merged_all[(merged_all['true_label1'] != merged_all['nb_desc_predictions']) & \n",
        "                                   (merged_all['true_label1'] == merged_all['lstm_predictions']) & \n",
        "                                   (merged_all['true_label1'] != merged_all['nb_pred']) &\n",
        "                                   (merged_all['true_label1'] != merged_all['logreg_pred']) &\n",
        "                                   (merged_all['true_label1'] != merged_all['cover_pred'])])/len(merged_all)\n",
        "percent_nb_title_only = len(merged_all[(merged_all['true_label1'] != merged_all['nb_desc_predictions']) &\n",
        "                                       (merged_all['true_label1'] != merged_all['lstm_predictions']) &\n",
        "                                       (merged_all['true_label1'] == merged_all['nb_pred']) &\n",
        "                                       (merged_all['true_label1'] != merged_all['logreg_pred']) &\n",
        "                                       (merged_all['true_label1'] != merged_all['cover_pred'])])/len(merged_all)\n",
        "percent_logreg_only = len(merged_all[(merged_all['true_label1'] != merged_all['nb_desc_predictions']) &\n",
        "                                     (merged_all['true_label1'] != merged_all['lstm_predictions']) &\n",
        "                                     (merged_all['true_label1'] != merged_all['nb_pred']) &\n",
        "                                     (merged_all['true_label1'] == merged_all['logreg_pred']) & \n",
        "                                     (merged_all['true_label1'] != merged_all['cover_pred'])])/len(merged_all)\n",
        "percent_cover_only = len(merged_all[(merged_all['true_label1'] != merged_all['nb_desc_predictions']) &\n",
        "                                    (merged_all['true_label1'] != merged_all['lstm_predictions']) &\n",
        "                                    (merged_all['true_label1'] != merged_all['nb_pred']) &\n",
        "                                    (merged_all['true_label1'] != merged_all['logreg_pred']) &\n",
        "                                    (merged_all['true_label1'] == merged_all['cover_pred'])])/len(merged_all)\n",
        "\n",
        "\n",
        "print(\"Percent where all predictions are the same\", round(percent_all_corr,4)*100, \"%\")\n",
        "print(\"Percent where LSTM on Description is only one correct\", round(percent_nb_desc_only,3)*100, \"%\")\n",
        "print(\"Percent where NB on Descriptions is only one correct\", round(percent_lstm_only,4)*100, \"%\")\n",
        "print(\"Percent where NB on Title is only one correct\", round(percent_nb_title_only,4)*100, \"%\")\n",
        "print(\"Percent where Logistic Regression on Title is only one correct\", round(percent_logreg_only,4)*100, \"%\")\n",
        "print(\"Percent where Neural Net on Covers is only one correct\", round(percent_cover_only,4)*100, \"%\")"
      ],
      "metadata": {
        "colab": {
          "base_uri": "https://localhost:8080/"
        },
        "id": "fkJy6Kxgkia9",
        "outputId": "1e391df3-d1c8-41b0-fe7b-b43bbe3eb492"
      },
      "execution_count": 238,
      "outputs": [
        {
          "output_type": "stream",
          "name": "stdout",
          "text": [
            "Percent where all predictions are the same 5.45 %\n",
            "Percent where LSTM on Description is only one correct 3.2 %\n",
            "Percent where NB on Descriptions is only one correct 2.79 %\n",
            "Percent where NB on Title is only one correct 1.15 %\n",
            "Percent where Logistic Regression on Title is only one correct 2.17 %\n",
            "Percent where Neural Net on Covers is only one correct 0.49 %\n"
          ]
        }
      ]
    },
    {
      "cell_type": "markdown",
      "source": [
        "Looks like about 11% of the data doesn't have the correct genre given by any of the 5 models. It also seems that the vast majority of these books are fiction, indicating a fundamental problem with the way the model classifies fiction books. Given the overlap between fiction and many of the other columns (ie fantasy), this is an understandable and anticipated problem.\n",
        "\n",
        "We can also see that there are very few books that are only correctly predicted by one model and very few books that are correctly predicted by all models, indicating that this is a problem well suited for an ensemble model.\n",
        "\n",
        "\n",
        "\n",
        "---\n",
        "\n",
        "Next, let's take a look at what happens to this number when we only look at books that have predictions from all 5 of the models, meaning that the book has title, description and cover based predictions.\n",
        "\n",
        "\n"
      ],
      "metadata": {
        "id": "v5zXS2JUi63j"
      }
    },
    {
      "cell_type": "code",
      "execution_count": 213,
      "metadata": {
        "id": "vtwYPSZh07vh"
      },
      "outputs": [],
      "source": [
        "merged_all_for_all = merged_all[(merged_all['lstm_predictions'] == merged_all['lstm_predictions']) & (merged_all['cover_pred'] == merged_all['cover_pred'])]"
      ]
    },
    {
      "cell_type": "code",
      "source": [
        "# percent of books with all 6 predictions where the correct label is equal to one of the predictions\n",
        "len(merged_all_for_all[(merged_all_for_all['true_label1'] == merged_all_for_all['nb_desc_predictions']) |\\\n",
        "                       (merged_all_for_all['true_label1'] == merged_all_for_all['lstm_predictions']) | \\\n",
        "                       (merged_all_for_all['true_label1'] == merged_all_for_all['nb_pred']) | \\\n",
        "                       (merged_all_for_all['true_label1'] == merged_all_for_all['logreg_pred']) | \\\n",
        "                       (merged_all_for_all['true_label1'] == merged_all_for_all['cover_pred'])])/len(merged_all_for_all)\n",
        "\n"
      ],
      "metadata": {
        "colab": {
          "base_uri": "https://localhost:8080/"
        },
        "id": "BMVkjeI1LYyE",
        "outputId": "86f2c0ad-032e-4baf-f88d-c34b4fa5fa4b"
      },
      "execution_count": 203,
      "outputs": [
        {
          "output_type": "execute_result",
          "data": {
            "text/plain": [
              "0.9368766300209814"
            ]
          },
          "metadata": {},
          "execution_count": 203
        }
      ]
    },
    {
      "cell_type": "code",
      "source": [
        "# percent of books where the correct label is equal to one of the predictions\n",
        "merged_all_for_all[(merged_all_for_all['true_label1'] == merged_all_for_all['nb_desc_predictions']) |(merged_all_for_all['true_label1'] == merged_all_for_all['lstm_predictions']) | (merged_all_for_all['true_label1'] == merged_all_for_all['nb_pred']) | (merged_all_for_all['true_label1'] == merged_all_for_all['logreg_pred']) | (merged_all_for_all['true_label1'] == merged_all_for_all['cover_pred'])]['first'].hist()\n",
        "plt.xticks(rotation=90)\n"
      ],
      "metadata": {
        "colab": {
          "base_uri": "https://localhost:8080/",
          "height": 452
        },
        "id": "icl2j_nMjjgK",
        "outputId": "f15bfe4a-e6a0-4259-b57f-86cccf48f3fc"
      },
      "execution_count": 218,
      "outputs": [
        {
          "output_type": "execute_result",
          "data": {
            "text/plain": [
              "([0, 1, 2, 3, 4, 5, 6, 7, 8, 9], <a list of 10 Text major ticklabel objects>)"
            ]
          },
          "metadata": {},
          "execution_count": 218
        },
        {
          "output_type": "display_data",
          "data": {
            "text/plain": [
              "<Figure size 432x288 with 1 Axes>"
            ],
            "image/png": "[encoded data removed]"
          },
          "metadata": {
            "needs_background": "light"
          }
        }
      ]
    },
    {
      "cell_type": "code",
      "source": [
        "percent_all_corr = len(merged_all_for_all[(merged_all_for_all['true_label1'] == merged_all_for_all['nb_desc_predictions']) & (merged_all_for_all['true_label1'] == merged_all_for_all['lstm_predictions']) & (merged_all_for_all['true_label1'] == merged_all_for_all['nb_pred']) & (merged_all_for_all['true_label1'] == merged_all_for_all['logreg_pred']) & (merged_all_for_all['true_label1'] == merged_all_for_all['cover_pred'])])/len(merged_all_for_all)\n",
        "percent_nb_desc_only = len(merged_all_for_all[(merged_all_for_all['true_label1'] == merged_all_for_all['nb_desc_predictions']) & (merged_all_for_all['true_label1'] != merged_all_for_all['lstm_predictions']) & (merged_all_for_all['true_label1'] != merged_all_for_all['nb_pred']) & (merged_all_for_all['true_label1'] != merged_all_for_all['logreg_pred']) & (merged_all_for_all['true_label1'] != merged_all_for_all['cover_pred'])])/len(merged_all_for_all)\n",
        "percent_lstm_only = len(merged_all_for_all[(merged_all_for_all['true_label1'] != merged_all_for_all['nb_desc_predictions']) & (merged_all_for_all['true_label1'] == merged_all_for_all['lstm_predictions']) & (merged_all_for_all['true_label1'] != merged_all_for_all['nb_pred']) & (merged_all_for_all['true_label1'] != merged_all_for_all['logreg_pred']) & (merged_all_for_all['true_label1'] != merged_all_for_all['cover_pred'])])/len(merged_all_for_all)\n",
        "percent_nb_title_only = len(merged_all_for_all[(merged_all_for_all['true_label1'] != merged_all_for_all['nb_desc_predictions']) & (merged_all_for_all['true_label1'] != merged_all_for_all['lstm_predictions']) & (merged_all_for_all['true_label1'] == merged_all_for_all['nb_pred']) & (merged_all_for_all['true_label1'] != merged_all_for_all['logreg_pred']) & (merged_all_for_all['true_label1'] != merged_all_for_all['cover_pred'])])/len(merged_all_for_all)\n",
        "percent_logreg_only = len(merged_all_for_all[(merged_all_for_all['true_label1'] != merged_all_for_all['nb_desc_predictions']) & (merged_all_for_all['true_label1'] != merged_all_for_all['lstm_predictions']) & (merged_all_for_all['true_label1'] != merged_all_for_all['nb_pred']) & (merged_all_for_all['true_label1'] == merged_all_for_all['logreg_pred']) & (merged_all_for_all['true_label1'] != merged_all_for_all['cover_pred'])])/len(merged_all_for_all)\n",
        "percent_cover_only = len(merged_all_for_all[(merged_all_for_all['true_label1'] != merged_all_for_all['nb_desc_predictions']) & (merged_all_for_all['true_label1'] != merged_all_for_all['lstm_predictions']) & (merged_all_for_all['true_label1'] != merged_all_for_all['nb_pred']) & (merged_all_for_all['true_label1'] != merged_all_for_all['logreg_pred']) & (merged_all_for_all['true_label1'] == merged_all_for_all['cover_pred'])])/len(merged_all_for_all)\n",
        "\n",
        "\n",
        "print(\"Percent where all predictions are the same\", round(percent_all_corr,4)*100, \"%\")\n",
        "print(\"Percent where LSTM on Description is only one correct\", round(percent_nb_desc_only,2)*100, \"%\")\n",
        "print(\"Percent where NB on Descriptions is only one correct\", round(percent_lstm_only,3)*100, \"%\")\n",
        "print(\"Percent where NB on Title is only one correct\", round(percent_nb_title_only,3)*100, \"%\")\n",
        "print(\"Percent where Logistic Regression on Title is only one correct\", round(percent_logreg_only,4)*100, \"%\")\n",
        "print(\"Percent where Neural Net on Covers is only one correct\", round(percent_cover_only,3)*100, \"%\")"
      ],
      "metadata": {
        "colab": {
          "base_uri": "https://localhost:8080/"
        },
        "id": "OfVBqpJTlw3S",
        "outputId": "15d8ab84-4c65-45af-9bbc-205e225c6bb1"
      },
      "execution_count": 231,
      "outputs": [
        {
          "output_type": "stream",
          "name": "stdout",
          "text": [
            "Percent where all predictions are the same 27.36 %\n",
            "Percent where LSTM on Description is only one correct 4.0 %\n",
            "Percent where NB on Descriptions is only one correct 2.1 %\n",
            "Percent where NB on Title is only one correct 0.6 %\n",
            "Percent where Logistic Regression on Title is only one correct 1.24 %\n",
            "Percent where Neural Net on Covers is only one correct 1.6 %\n"
          ]
        }
      ]
    },
    {
      "cell_type": "markdown",
      "source": [
        "When we only consider books that are predicted by all 5 models, the percent that are incapable of being correctly predicted by an ensemble method decreases to ~94% and is much more evenly distributed. \n",
        "\n",
        "We can also see that very few books are only correctly predicted by one model but that over a quarter of books are correctly predicted by all models."
      ],
      "metadata": {
        "id": "Rd69nZr4jzYQ"
      }
    },
    {
      "cell_type": "markdown",
      "metadata": {
        "id": "mwYwaJeSw4_A"
      },
      "source": [
        "## Model For Data With 5 Predictions"
      ]
    },
    {
      "cell_type": "code",
      "execution_count": 197,
      "metadata": {
        "id": "FNS-x22I1Gfo"
      },
      "outputs": [],
      "source": [
        "from sklearn.model_selection import train_test_split\n",
        "\n",
        "ensemble_features = merged_all_for_all[['lstm_predictions', 'nb_pred', 'logreg_pred', 'cover_pred','nb_desc_predictions']]\n",
        "ensemble_labels = merged_all_for_all['true_label1']\n",
        "\n",
        "X_train, X_test, y_train, y_test = train_test_split(ensemble_features, ensemble_labels, test_size=0.2, random_state=42)"
      ]
    },
    {
      "cell_type": "code",
      "source": [
        "# 'lstm_predictions', 'nb_pred', 'logreg_pred', 'cover_pred', 'nb_desc_predictions'\n",
        "from sklearn.model_selection import GridSearchCV\n",
        "import xgboost as xgb\n",
        "\n",
        "xgb_model = xgb.XGBClassifier(verbosity=1, max_depth=2)\n",
        "\n",
        "optimization_dict = {'eta': [0.008, 0.01, 0.05, 0.1],\n",
        "                     'n_estimators': [100,200, 300]}\n",
        "\n",
        "model_all_preds = GridSearchCV(xgb_model, optimization_dict, scoring='accuracy', verbose=1, cv=[(slice(None), slice(None))])\n",
        "\n",
        "model_all_preds.fit(X_train, y_train)\n",
        "print(model_all_preds.best_score_)\n",
        "print(model_all_preds.best_params_)"
      ],
      "metadata": {
        "colab": {
          "base_uri": "https://localhost:8080/"
        },
        "id": "OWmg5pSl5xTw",
        "outputId": "6180b058-7f59-437b-8ef2-b822f6a0214e"
      },
      "execution_count": 131,
      "outputs": [
        {
          "output_type": "stream",
          "name": "stdout",
          "text": [
            "Fitting 1 folds for each of 12 candidates, totalling 12 fits\n",
            "0.8340259684330656\n",
            "{'eta': 0.008, 'n_estimators': 300}\n"
          ]
        }
      ]
    },
    {
      "cell_type": "code",
      "execution_count": 198,
      "metadata": {
        "colab": {
          "base_uri": "https://localhost:8080/"
        },
        "outputId": "541974f1-f4d0-4b72-9223-c99d912031bc",
        "id": "CAdemzN3l6bK"
      },
      "outputs": [
        {
          "output_type": "stream",
          "name": "stdout",
          "text": [
            "0.8339936608557845\n"
          ]
        }
      ],
      "source": [
        "#'lstm_predictions', 'nb_pred', 'logreg_pred', 'cover_pred','nb_desc_predictions'\n",
        "import xgboost as xgb\n",
        "from sklearn.model_selection import cross_val_score, KFold\n",
        "\n",
        "\n",
        "model_all_preds = xgb.XGBClassifier(verbosity=1, max_depth=2, eta=0.008, n_estimators= 300)\n",
        "model_all_preds.fit(X_train, y_train)\n",
        "print(model_all_preds.score(X_test, y_test))  \n"
      ]
    },
    {
      "cell_type": "code",
      "source": [
        "from sklearn.metrics import classification_report\n",
        "\n",
        "test_pred = model_all_preds.predict(X_test)\n",
        "\n",
        "list_of_genres = list(genre_encoding_lookup_df.sort_values(by=['true_label'])['true_genre'])\n",
        "print(classification_report(y_test, test_pred, target_names=list_of_genres))"
      ],
      "metadata": {
        "colab": {
          "base_uri": "https://localhost:8080/"
        },
        "id": "0LOUWIHb_0So",
        "outputId": "525bf873-dc41-4700-e688-010323e32945"
      },
      "execution_count": 199,
      "outputs": [
        {
          "output_type": "stream",
          "name": "stdout",
          "text": [
            "                                        precision    recall  f1-score   support\n",
            "\n",
            "                              children       0.85      0.88      0.86      3528\n",
            "                       comics, graphic       0.89      0.89      0.89      2187\n",
            "                   fantasy, paranormal       0.83      0.87      0.85      7735\n",
            "                               fiction       0.79      0.73      0.76     12015\n",
            "history, historical fiction, biography       0.77      0.70      0.73      4491\n",
            "              mystery, thriller, crime       0.86      0.86      0.86      6009\n",
            "                           non-fiction       0.87      0.89      0.88      9046\n",
            "                                poetry       0.90      0.92      0.91      1104\n",
            "                               romance       0.85      0.89      0.87      9870\n",
            "                           young-adult       0.79      0.83      0.81      2067\n",
            "\n",
            "                              accuracy                           0.83     58052\n",
            "                             macro avg       0.84      0.85      0.84     58052\n",
            "                          weighted avg       0.83      0.83      0.83     58052\n",
            "\n"
          ]
        }
      ]
    },
    {
      "cell_type": "code",
      "source": [
        "#'lstm_predictions', 'nb_pred', 'logreg_pred', 'cover_pred','nb_desc_predictions'\n",
        "\n",
        "lstm_acc = len(merged_all_for_all[merged_all_for_all['lstm_predictions'] == merged_all_for_all['true_label1']])/len(merged_all_for_all)\n",
        "nb_desc_acc = len(merged_all_for_all[merged_all_for_all['nb_desc_predictions'] == merged_all_for_all['true_label1']])/len(merged_all_for_all)\n",
        "nb_title_acc = len(merged_all_for_all[merged_all_for_all['nb_pred'] == merged_all_for_all['true_label1']])/len(merged_all_for_all)\n",
        "logreg_acc = len(merged_all_for_all[merged_all_for_all['logreg_pred'] == merged_all_for_all['true_label1']])/len(merged_all_for_all)\n",
        "cover_acc = len(merged_all_for_all[merged_all_for_all['cover_pred'] == merged_all_for_all['true_label1']])/len(merged_all_for_all)\n",
        "\n",
        "print(\"Percent accuracy LSTM on Descriptions\", round(lstm_acc,4)*100, \"%\")\n",
        "print(\"Percent accuracy NB on Descriptions\", round(nb_desc_acc,4)*100, \"%\")\n",
        "print(\"Percent accuracy NB on Title\", round(nb_title_acc,4)*100, \"%\")\n",
        "print(\"Percent accuracy Logistic Regression on Title\", round(logreg_acc,4)*100, \"%\")\n",
        "print(\"Percent accuracy Neural Net on Covers\", round(cover_acc,4)*100, \"%\")"
      ],
      "metadata": {
        "colab": {
          "base_uri": "https://localhost:8080/"
        },
        "id": "Ev5vTOUtvrfc",
        "outputId": "1b3b288a-04ea-4fd4-e675-ae50f0c53b82"
      },
      "execution_count": 234,
      "outputs": [
        {
          "output_type": "stream",
          "name": "stdout",
          "text": [
            "Percent accuracy LSTM on Descriptions 69.83 %\n",
            "Percent accuracy NB on Descriptions 72.36 %\n",
            "Percent accuracy NB on Title 69.1 %\n",
            "Percent accuracy Logistic Regression on Title 72.11 %\n",
            "Percent accuracy Neural Net on Covers 44.87 %\n"
          ]
        }
      ]
    },
    {
      "cell_type": "markdown",
      "source": [
        "When using data that has predictions from all 5 models, we can see that the ensemble method performs well above the best base model, with over a 10% increase. "
      ],
      "metadata": {
        "id": "80bG-K9iwbGm"
      }
    },
    {
      "cell_type": "markdown",
      "metadata": {
        "id": "fPlS_uiD1HAW"
      },
      "source": [
        "## Model for All Data\n"
      ]
    },
    {
      "cell_type": "code",
      "execution_count": 136,
      "metadata": {
        "id": "HMVX4F8KDEY2"
      },
      "outputs": [],
      "source": [
        "from sklearn.model_selection import train_test_split\n",
        "\n",
        "ensemble_features = merged_all[['lstm_predictions', 'nb_pred', 'logreg_pred', 'cover_pred', 'nb_desc_predictions']]\n",
        "ensemble_labels = merged_all['true_label1']\n",
        "\n",
        "X_train, X_test, y_train, y_test = train_test_split(ensemble_features, ensemble_labels, test_size=0.2, random_state=42)"
      ]
    },
    {
      "cell_type": "code",
      "execution_count": 139,
      "metadata": {
        "colab": {
          "base_uri": "https://localhost:8080/"
        },
        "id": "nLu3mKQdXi2X",
        "outputId": "e9178140-6943-4f8d-a5b9-559b086713ce"
      },
      "outputs": [
        {
          "output_type": "stream",
          "name": "stdout",
          "text": [
            "Fitting 1 folds for each of 12 candidates, totalling 12 fits\n",
            "0.8034131285524828\n",
            "{'eta': 0.008, 'n_estimators': 300}\n"
          ]
        }
      ],
      "source": [
        "# 2 hrs\n",
        "# 'lstm_predictions', 'nb_pred', 'logreg_pred', 'cover_pred', 'nb_desc_predictions'\n",
        "from sklearn.model_selection import GridSearchCV\n",
        "import xgboost as xgb\n",
        "\n",
        "xgb_model = xgb.XGBClassifier(verbosity=1, max_depth=2)\n",
        "\n",
        "optimization_dict = {'eta': [0.008, 0.01, 0.05, 0.1],\n",
        "                     'n_estimators': [100, 200, 300]}\n",
        "\n",
        "model = GridSearchCV(xgb_model, optimization_dict, scoring='accuracy', verbose=1, cv=[(slice(None), slice(None))])\n",
        "\n",
        "model.fit(X_train, y_train)\n",
        "print(model.best_score_)\n",
        "print(model.best_params_)"
      ]
    },
    {
      "cell_type": "code",
      "execution_count": 140,
      "metadata": {
        "id": "owHkIMHfSlFz",
        "colab": {
          "base_uri": "https://localhost:8080/"
        },
        "outputId": "33fd5627-8205-4fa2-8274-430492ac0d21"
      },
      "outputs": [
        {
          "output_type": "stream",
          "name": "stdout",
          "text": [
            "0.8034752293829821\n"
          ]
        }
      ],
      "source": [
        "#18 min\n",
        "# 'lstm_predictions', 'nb_pred', 'logreg_pred', 'cover_pred', 'nb_desc_predictions'\n",
        "model = xgb.XGBClassifier(verbosity=1, max_depth=2, eta=0.008, n_estimators= 300)\n",
        "model.fit(X_train, y_train)\n",
        "\n",
        "print(model.score(X_test, y_test))  "
      ]
    },
    {
      "cell_type": "code",
      "source": [
        "from sklearn.metrics import classification_report\n",
        "\n",
        "test_pred = model.predict(X_test)\n",
        "\n",
        "list_of_genres = list(genre_encoding_lookup_df.sort_values(by=['true_label'])['true_genre'])\n",
        "print(classification_report(y_test, test_pred, target_names=list_of_genres))"
      ],
      "metadata": {
        "colab": {
          "base_uri": "https://localhost:8080/"
        },
        "id": "pC5m-hVGJfwD",
        "outputId": "fa768a6d-4ef9-498c-a398-315acab6db06"
      },
      "execution_count": 195,
      "outputs": [
        {
          "output_type": "stream",
          "name": "stdout",
          "text": [
            "                                        precision    recall  f1-score   support\n",
            "\n",
            "                              children       0.79      0.85      0.82     19094\n",
            "                       comics, graphic       0.86      0.88      0.87     11903\n",
            "                   fantasy, paranormal       0.80      0.83      0.82     32571\n",
            "                               fiction       0.76      0.70      0.73     59464\n",
            "history, historical fiction, biography       0.74      0.71      0.72     27613\n",
            "              mystery, thriller, crime       0.82      0.84      0.83     28789\n",
            "                           non-fiction       0.85      0.85      0.85     53772\n",
            "                                poetry       0.84      0.90      0.87      6437\n",
            "                               romance       0.82      0.85      0.84     43479\n",
            "                           young-adult       0.74      0.77      0.76      8312\n",
            "\n",
            "                              accuracy                           0.80    291434\n",
            "                             macro avg       0.80      0.82      0.81    291434\n",
            "                          weighted avg       0.80      0.80      0.80    291434\n",
            "\n"
          ]
        }
      ]
    },
    {
      "cell_type": "code",
      "source": [
        "#'lstm_predictions', 'nb_pred', 'logreg_pred', 'cover_pred','nb_desc_predictions'\n",
        "\n",
        "lstm_acc = len(merged_all[merged_all['lstm_predictions'] == merged_all['true_label1']])/len(merged_all)\n",
        "nb_desc_acc = len(merged_all[merged_all['nb_desc_predictions'] == merged_all['true_label1']])/len(merged_all)\n",
        "nb_title_acc = len(merged_all[merged_all['nb_pred'] == merged_all['true_label1']])/len(merged_all)\n",
        "logreg_acc = len(merged_all[merged_all['logreg_pred'] == merged_all['true_label1']])/len(merged_all)\n",
        "cover_acc = len(merged_all[merged_all['cover_pred'] == merged_all['true_label1']])/len(merged_all)\n",
        "\n",
        "print(\"Percent accuracy LSTM on Descriptions\", round(lstm_acc,2)*100, \"%\")\n",
        "print(\"Percent accuracy NB on Descriptions\", round(nb_desc_acc,3)*100, \"%\")\n",
        "print(\"Percent accuracy NB on Title\", round(nb_title_acc,4)*100, \"%\")\n",
        "print(\"Percent accuracy Logistic Regression on Title\", round(logreg_acc,4)*100, \"%\")\n",
        "print(\"Percent accuracy Neural Net on Covers\", round(cover_acc,4)*100, \"%\")"
      ],
      "metadata": {
        "colab": {
          "base_uri": "https://localhost:8080/"
        },
        "id": "m97l_cIuWMID",
        "outputId": "58c4b863-37ca-4b20-ff3e-a70a01a52a5b"
      },
      "execution_count": 237,
      "outputs": [
        {
          "output_type": "stream",
          "name": "stdout",
          "text": [
            "Percent accuracy LSTM on Descriptions 59.0 %\n",
            "Percent accuracy NB on Descriptions 60.9 %\n",
            "Percent accuracy NB on Title 68.97 %\n",
            "Percent accuracy Logistic Regression on Title 71.77 %\n",
            "Percent accuracy Neural Net on Covers 9.64 %\n"
          ]
        }
      ]
    },
    {
      "cell_type": "markdown",
      "source": [
        "When considering books that don't necessarily have all 5 predictions, we can see that ensembling has still improved accuracy by over 8%."
      ],
      "metadata": {
        "id": "BGoUunNtw_U6"
      }
    }
  ],
  "metadata": {
    "colab": {
      "collapsed_sections": [],
      "name": "Ensemble Model.ipynb",
      "toc_visible": true,
      "provenance": []
    },
    "kernelspec": {
      "display_name": "Python 3",
      "name": "python3"
    },
    "language_info": {
      "name": "python"
    }
  },
  "nbformat": 4,
  "nbformat_minor": 0
}